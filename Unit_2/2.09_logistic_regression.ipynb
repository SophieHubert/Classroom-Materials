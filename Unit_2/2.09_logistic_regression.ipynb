{
 "cells": [
  {
   "cell_type": "markdown",
   "metadata": {},
   "source": [
    "## Logistic Regression\n",
    "\n",
    "Logistic Regression is a model to predict the probability of a CATEGORICAL target.\n",
    "\n",
    "The target variable can be:\n",
    "* Binary: yes or no (0 or 1)\n",
    "* Multi-nomial: more then 2 options, without hierarchy (i.e.:cat, dog and mouse)\n",
    "* Ordinal: more then 2 options, with hierarchy (i.e.: rating from 1 to 5)\n",
    "\n",
    "Don't forget the [DOCS](https://scikit-learn.org/stable/modules/generated/sklearn.linear_model.LogisticRegression.html). <br>\n",
    "More on formulas and functions [here](https://towardsdatascience.com/logistic-regression-detailed-overview-46c4da4303bc). <br>\n",
    "Why accuracy score is not the best metric? [here](https://stats.stackexchange.com/questions/312780/why-is-accuracy-not-the-best-measure-for-assessing-classification-models). <br>\n",
    "### Awesome resource to understand Logistic Regression [here](https://www.youtube.com/watch?v=yIYKR4sgzI8&list=PLblh5JKOoLUKxzEP5HA2d-Li7IJkHfXSe)"
   ]
  },
  {
   "cell_type": "code",
   "execution_count": 1,
   "metadata": {},
   "outputs": [
    {
     "name": "stdin",
     "output_type": "stream",
     "text": [
      " ·····\n"
     ]
    }
   ],
   "source": [
    "import pymysql\n",
    "from sqlalchemy import create_engine\n",
    "import pandas as pd\n",
    "import numpy as np\n",
    "from matplotlib import pyplot as plt\n",
    "import seaborn as sns\n",
    "from sklearn.metrics import confusion_matrix\n",
    "from sklearn.model_selection import train_test_split\n",
    "from sklearn.linear_model import LogisticRegression\n",
    "from sklearn.preprocessing import StandardScaler\n",
    "\n",
    "import getpass  # to get the password without showing the input\n",
    "password = getpass.getpass()\n",
    "\n",
    "connection_string = 'mysql+pymysql://root:' + password + '@localhost/bank'\n",
    "engine = create_engine(connection_string)"
   ]
  },
  {
   "cell_type": "markdown",
   "metadata": {},
   "source": [
    "Now we want to develop a classification model to predict the status of the customer based on the information available."
   ]
  },
  {
   "cell_type": "code",
   "execution_count": 2,
   "metadata": {},
   "outputs": [
    {
     "data": {
      "text/html": [
       "<div>\n",
       "<style scoped>\n",
       "    .dataframe tbody tr th:only-of-type {\n",
       "        vertical-align: middle;\n",
       "    }\n",
       "\n",
       "    .dataframe tbody tr th {\n",
       "        vertical-align: top;\n",
       "    }\n",
       "\n",
       "    .dataframe thead th {\n",
       "        text-align: right;\n",
       "    }\n",
       "</style>\n",
       "<table border=\"1\" class=\"dataframe\">\n",
       "  <thead>\n",
       "    <tr style=\"text-align: right;\">\n",
       "      <th></th>\n",
       "      <th>type</th>\n",
       "      <th>operation</th>\n",
       "      <th>t_amount</th>\n",
       "      <th>balance</th>\n",
       "      <th>k_symbol</th>\n",
       "      <th>l_amount</th>\n",
       "      <th>duration</th>\n",
       "      <th>payments</th>\n",
       "      <th>status</th>\n",
       "    </tr>\n",
       "  </thead>\n",
       "  <tbody>\n",
       "    <tr>\n",
       "      <th>0</th>\n",
       "      <td>PRIJEM</td>\n",
       "      <td>PREVOD Z UCTU</td>\n",
       "      <td>44749.0</td>\n",
       "      <td>45549.0</td>\n",
       "      <td></td>\n",
       "      <td>79608</td>\n",
       "      <td>24</td>\n",
       "      <td>3317.0</td>\n",
       "      <td>A</td>\n",
       "    </tr>\n",
       "    <tr>\n",
       "      <th>1</th>\n",
       "      <td>PRIJEM</td>\n",
       "      <td>VKLAD</td>\n",
       "      <td>1000.0</td>\n",
       "      <td>1000.0</td>\n",
       "      <td></td>\n",
       "      <td>52788</td>\n",
       "      <td>12</td>\n",
       "      <td>4399.0</td>\n",
       "      <td>A</td>\n",
       "    </tr>\n",
       "    <tr>\n",
       "      <th>2</th>\n",
       "      <td>PRIJEM</td>\n",
       "      <td>VKLAD</td>\n",
       "      <td>1100.0</td>\n",
       "      <td>1100.0</td>\n",
       "      <td></td>\n",
       "      <td>21924</td>\n",
       "      <td>36</td>\n",
       "      <td>609.0</td>\n",
       "      <td>A</td>\n",
       "    </tr>\n",
       "    <tr>\n",
       "      <th>3</th>\n",
       "      <td>PRIJEM</td>\n",
       "      <td>VKLAD</td>\n",
       "      <td>700.0</td>\n",
       "      <td>700.0</td>\n",
       "      <td></td>\n",
       "      <td>23052</td>\n",
       "      <td>12</td>\n",
       "      <td>1921.0</td>\n",
       "      <td>A</td>\n",
       "    </tr>\n",
       "    <tr>\n",
       "      <th>4</th>\n",
       "      <td>PRIJEM</td>\n",
       "      <td>VKLAD</td>\n",
       "      <td>900.0</td>\n",
       "      <td>900.0</td>\n",
       "      <td></td>\n",
       "      <td>41904</td>\n",
       "      <td>12</td>\n",
       "      <td>3492.0</td>\n",
       "      <td>A</td>\n",
       "    </tr>\n",
       "    <tr>\n",
       "      <th>...</th>\n",
       "      <td>...</td>\n",
       "      <td>...</td>\n",
       "      <td>...</td>\n",
       "      <td>...</td>\n",
       "      <td>...</td>\n",
       "      <td>...</td>\n",
       "      <td>...</td>\n",
       "      <td>...</td>\n",
       "      <td>...</td>\n",
       "    </tr>\n",
       "    <tr>\n",
       "      <th>74359</th>\n",
       "      <td>PRIJEM</td>\n",
       "      <td></td>\n",
       "      <td>221.3</td>\n",
       "      <td>48019.4</td>\n",
       "      <td>UROK</td>\n",
       "      <td>131292</td>\n",
       "      <td>36</td>\n",
       "      <td>3647.0</td>\n",
       "      <td>A</td>\n",
       "    </tr>\n",
       "    <tr>\n",
       "      <th>74360</th>\n",
       "      <td>PRIJEM</td>\n",
       "      <td></td>\n",
       "      <td>227.6</td>\n",
       "      <td>108432.0</td>\n",
       "      <td>UROK</td>\n",
       "      <td>168984</td>\n",
       "      <td>24</td>\n",
       "      <td>7041.0</td>\n",
       "      <td>B</td>\n",
       "    </tr>\n",
       "    <tr>\n",
       "      <th>74361</th>\n",
       "      <td>PRIJEM</td>\n",
       "      <td></td>\n",
       "      <td>235.7</td>\n",
       "      <td>53703.3</td>\n",
       "      <td>UROK</td>\n",
       "      <td>182628</td>\n",
       "      <td>36</td>\n",
       "      <td>5073.0</td>\n",
       "      <td>A</td>\n",
       "    </tr>\n",
       "    <tr>\n",
       "      <th>74362</th>\n",
       "      <td>PRIJEM</td>\n",
       "      <td></td>\n",
       "      <td>293.0</td>\n",
       "      <td>85131.6</td>\n",
       "      <td>UROK</td>\n",
       "      <td>274740</td>\n",
       "      <td>60</td>\n",
       "      <td>4579.0</td>\n",
       "      <td>A</td>\n",
       "    </tr>\n",
       "    <tr>\n",
       "      <th>74363</th>\n",
       "      <td>PRIJEM</td>\n",
       "      <td></td>\n",
       "      <td>395.6</td>\n",
       "      <td>96741.4</td>\n",
       "      <td>UROK</td>\n",
       "      <td>151560</td>\n",
       "      <td>24</td>\n",
       "      <td>6315.0</td>\n",
       "      <td>A</td>\n",
       "    </tr>\n",
       "  </tbody>\n",
       "</table>\n",
       "<p>74364 rows × 9 columns</p>\n",
       "</div>"
      ],
      "text/plain": [
       "         type      operation  t_amount   balance k_symbol  l_amount  duration  \\\n",
       "0      PRIJEM  PREVOD Z UCTU   44749.0   45549.0              79608        24   \n",
       "1      PRIJEM          VKLAD    1000.0    1000.0              52788        12   \n",
       "2      PRIJEM          VKLAD    1100.0    1100.0              21924        36   \n",
       "3      PRIJEM          VKLAD     700.0     700.0              23052        12   \n",
       "4      PRIJEM          VKLAD     900.0     900.0              41904        12   \n",
       "...       ...            ...       ...       ...      ...       ...       ...   \n",
       "74359  PRIJEM                    221.3   48019.4     UROK    131292        36   \n",
       "74360  PRIJEM                    227.6  108432.0     UROK    168984        24   \n",
       "74361  PRIJEM                    235.7   53703.3     UROK    182628        36   \n",
       "74362  PRIJEM                    293.0   85131.6     UROK    274740        60   \n",
       "74363  PRIJEM                    395.6   96741.4     UROK    151560        24   \n",
       "\n",
       "       payments status  \n",
       "0        3317.0      A  \n",
       "1        4399.0      A  \n",
       "2         609.0      A  \n",
       "3        1921.0      A  \n",
       "4        3492.0      A  \n",
       "...         ...    ...  \n",
       "74359    3647.0      A  \n",
       "74360    7041.0      B  \n",
       "74361    5073.0      A  \n",
       "74362    4579.0      A  \n",
       "74363    6315.0      A  \n",
       "\n",
       "[74364 rows x 9 columns]"
      ]
     },
     "execution_count": 2,
     "metadata": {},
     "output_type": "execute_result"
    }
   ],
   "source": [
    "query = '''SELECT t.type, t.operation, t.amount AS t_amount, t.balance, t.k_symbol, l.amount AS l_amount, l.duration, l.payments, l.status\n",
    "           FROM trans t\n",
    "           LEFT JOIN loan l\n",
    "           ON t.account_id = l.account_id\n",
    "           WHERE l.status IN ('A', 'B');'''\n",
    "\n",
    "data = pd.read_sql_query(query, engine)\n",
    "data"
   ]
  },
  {
   "cell_type": "code",
   "execution_count": 3,
   "metadata": {},
   "outputs": [
    {
     "data": {
      "text/plain": [
       "((74364, 9),\n",
       " type          object\n",
       " operation     object\n",
       " t_amount     float64\n",
       " balance      float64\n",
       " k_symbol      object\n",
       " l_amount       int64\n",
       " duration       int64\n",
       " payments     float64\n",
       " status        object\n",
       " dtype: object)"
      ]
     },
     "execution_count": 3,
     "metadata": {},
     "output_type": "execute_result"
    }
   ],
   "source": [
    "data.shape, data.dtypes"
   ]
  },
  {
   "cell_type": "code",
<<<<<<< HEAD
   "execution_count": 4,
=======
   "execution_count": 24,
>>>>>>> 37b64fff4e096aa703661035effefcac8b09e01a
   "metadata": {},
   "outputs": [
    {
     "data": {
      "text/plain": [
       "type         0\n",
       "operation    0\n",
       "t_amount     0\n",
       "balance      0\n",
       "k_symbol     0\n",
       "l_amount     0\n",
       "duration     0\n",
       "payments     0\n",
       "status       0\n",
       "dtype: int64"
      ]
     },
<<<<<<< HEAD
     "execution_count": 4,
=======
     "execution_count": 24,
>>>>>>> 37b64fff4e096aa703661035effefcac8b09e01a
     "metadata": {},
     "output_type": "execute_result"
    }
   ],
   "source": [
    "data.isna().sum()"
   ]
  },
  {
   "cell_type": "code",
<<<<<<< HEAD
   "execution_count": 5,
=======
   "execution_count": 25,
>>>>>>> 37b64fff4e096aa703661035effefcac8b09e01a
   "metadata": {},
   "outputs": [
    {
     "data": {
      "text/html": [
       "<div>\n",
       "<style scoped>\n",
       "    .dataframe tbody tr th:only-of-type {\n",
       "        vertical-align: middle;\n",
       "    }\n",
       "\n",
       "    .dataframe tbody tr th {\n",
       "        vertical-align: top;\n",
       "    }\n",
       "\n",
       "    .dataframe thead th {\n",
       "        text-align: right;\n",
       "    }\n",
       "</style>\n",
       "<table border=\"1\" class=\"dataframe\">\n",
       "  <thead>\n",
       "    <tr style=\"text-align: right;\">\n",
       "      <th></th>\n",
       "      <th>t_amount</th>\n",
       "      <th>balance</th>\n",
       "      <th>l_amount</th>\n",
       "      <th>duration</th>\n",
       "      <th>payments</th>\n",
       "    </tr>\n",
       "  </thead>\n",
       "  <tbody>\n",
       "    <tr>\n",
       "      <th>count</th>\n",
       "      <td>74364.000000</td>\n",
       "      <td>74364.000000</td>\n",
       "      <td>74364.000000</td>\n",
       "      <td>74364.000000</td>\n",
       "      <td>74364.000000</td>\n",
       "    </tr>\n",
       "    <tr>\n",
       "      <th>mean</th>\n",
       "      <td>7832.649125</td>\n",
       "      <td>46022.153061</td>\n",
       "      <td>102745.132645</td>\n",
       "      <td>23.942230</td>\n",
       "      <td>4356.580832</td>\n",
       "    </tr>\n",
       "    <tr>\n",
       "      <th>std</th>\n",
       "      <td>11729.040391</td>\n",
       "      <td>25439.948570</td>\n",
       "      <td>74749.275498</td>\n",
       "      <td>12.155783</td>\n",
       "      <td>2205.840892</td>\n",
       "    </tr>\n",
       "    <tr>\n",
       "      <th>min</th>\n",
       "      <td>0.000000</td>\n",
       "      <td>-14137.200000</td>\n",
       "      <td>4980.000000</td>\n",
       "      <td>12.000000</td>\n",
       "      <td>319.000000</td>\n",
       "    </tr>\n",
       "    <tr>\n",
       "      <th>25%</th>\n",
       "      <td>144.300000</td>\n",
       "      <td>27675.125000</td>\n",
       "      <td>46320.000000</td>\n",
       "      <td>12.000000</td>\n",
       "      <td>2569.000000</td>\n",
       "    </tr>\n",
       "    <tr>\n",
       "      <th>50%</th>\n",
       "      <td>3000.000000</td>\n",
       "      <td>40965.150000</td>\n",
       "      <td>86184.000000</td>\n",
       "      <td>24.000000</td>\n",
       "      <td>4051.000000</td>\n",
       "    </tr>\n",
       "    <tr>\n",
       "      <th>75%</th>\n",
       "      <td>9868.500000</td>\n",
       "      <td>60098.550000</td>\n",
       "      <td>140400.000000</td>\n",
       "      <td>36.000000</td>\n",
       "      <td>6315.000000</td>\n",
       "    </tr>\n",
       "    <tr>\n",
       "      <th>max</th>\n",
       "      <td>87300.000000</td>\n",
       "      <td>193910.000000</td>\n",
       "      <td>464520.000000</td>\n",
       "      <td>60.000000</td>\n",
       "      <td>9736.000000</td>\n",
       "    </tr>\n",
       "  </tbody>\n",
       "</table>\n",
       "</div>"
      ],
      "text/plain": [
       "           t_amount        balance       l_amount      duration      payments\n",
       "count  74364.000000   74364.000000   74364.000000  74364.000000  74364.000000\n",
       "mean    7832.649125   46022.153061  102745.132645     23.942230   4356.580832\n",
       "std    11729.040391   25439.948570   74749.275498     12.155783   2205.840892\n",
       "min        0.000000  -14137.200000    4980.000000     12.000000    319.000000\n",
       "25%      144.300000   27675.125000   46320.000000     12.000000   2569.000000\n",
       "50%     3000.000000   40965.150000   86184.000000     24.000000   4051.000000\n",
       "75%     9868.500000   60098.550000  140400.000000     36.000000   6315.000000\n",
       "max    87300.000000  193910.000000  464520.000000     60.000000   9736.000000"
      ]
     },
<<<<<<< HEAD
     "execution_count": 5,
=======
     "execution_count": 25,
>>>>>>> 37b64fff4e096aa703661035effefcac8b09e01a
     "metadata": {},
     "output_type": "execute_result"
    }
   ],
   "source": [
    "data.describe()"
   ]
  },
  {
   "cell_type": "code",
   "execution_count": 6,
   "metadata": {},
   "outputs": [
    {
     "name": "stdout",
     "output_type": "stream",
     "text": [
      "VYDAJ     44075\n",
      "PRIJEM    27660\n",
      "VYBER      2629\n",
      "Name: type, dtype: int64 \n",
      "\n",
      "VYBER             34667\n",
      "                  14646\n",
      "PREVOD NA UCET    11647\n",
      "VKLAD             10525\n",
      "PREVOD Z UCTU      2489\n",
      "VYBER KARTOU        390\n",
      "Name: operation, dtype: int64 \n",
      "\n",
      "               35953\n",
      "UROK           14646\n",
      "SLUZBY         11306\n",
      "SIPO            5081\n",
      "                3018\n",
      "UVER            2893\n",
      "POJISTNE        1159\n",
      "SANKC. UROK      308\n",
      "Name: k_symbol, dtype: int64 \n",
      "\n",
      "A    64599\n",
      "B     9765\n",
      "Name: status, dtype: int64 \n",
      "\n"
     ]
    }
   ],
   "source": [
    "for col in data.select_dtypes('object'):\n",
    "    print(data[col].value_counts(), '\\n') #unique()"
   ]
  },
  {
   "cell_type": "code",
   "execution_count": 74,
   "metadata": {},
   "outputs": [],
   "source": [
    "# if you want to filter them out instead of cleaning\n",
    "# data[(data['k_symbol'] != '') & (data['k_symbol'] != ' ') & (data['operation'] != ' ')] "
   ]
  },
  {
   "cell_type": "code",
<<<<<<< HEAD
   "execution_count": 7,
=======
   "execution_count": 26,
>>>>>>> 37b64fff4e096aa703661035effefcac8b09e01a
   "metadata": {},
   "outputs": [],
   "source": [
    "def clean_empty(x):\n",
    "    return 'UNK' if x == '' or x == ' ' else x\n",
    "\n",
    "# it's the same as this:\n",
    "def clean_empty(x):\n",
    "    if x == '' or x == ' ':\n",
    "        return 'UNK' \n",
    "    else:\n",
    "        return x\n",
    "    \n",
    "# or with lambda\n",
    "lmd = lambda x: 'UNK' if x == '' or x == ' ' else x"
   ]
  },
  {
   "cell_type": "code",
<<<<<<< HEAD
   "execution_count": 8,
=======
   "execution_count": 27,
>>>>>>> 37b64fff4e096aa703661035effefcac8b09e01a
   "metadata": {},
   "outputs": [],
   "source": [
    "# with regular apply - gets all values row wise OR column wise (axis parameter)\n",
    "for col in data.select_dtypes('object'):\n",
    "    data[col] = data[col].apply(clean_empty) # lmb"
   ]
  },
  {
   "cell_type": "code",
<<<<<<< HEAD
   "execution_count": 9,
=======
   "execution_count": 28,
>>>>>>> 37b64fff4e096aa703661035effefcac8b09e01a
   "metadata": {},
   "outputs": [
    {
     "data": {
      "text/html": [
       "<div>\n",
       "<style scoped>\n",
       "    .dataframe tbody tr th:only-of-type {\n",
       "        vertical-align: middle;\n",
       "    }\n",
       "\n",
       "    .dataframe tbody tr th {\n",
       "        vertical-align: top;\n",
       "    }\n",
       "\n",
       "    .dataframe thead th {\n",
       "        text-align: right;\n",
       "    }\n",
       "</style>\n",
       "<table border=\"1\" class=\"dataframe\">\n",
       "  <thead>\n",
       "    <tr style=\"text-align: right;\">\n",
       "      <th></th>\n",
       "      <th>type</th>\n",
       "      <th>operation</th>\n",
       "      <th>t_amount</th>\n",
       "      <th>balance</th>\n",
       "      <th>k_symbol</th>\n",
       "      <th>l_amount</th>\n",
       "      <th>duration</th>\n",
       "      <th>payments</th>\n",
       "      <th>status</th>\n",
       "    </tr>\n",
       "  </thead>\n",
       "  <tbody>\n",
       "    <tr>\n",
       "      <th>0</th>\n",
       "      <td>PRIJEM</td>\n",
       "      <td>PREVOD Z UCTU</td>\n",
       "      <td>44749.0</td>\n",
       "      <td>45549.0</td>\n",
       "      <td>UNK</td>\n",
       "      <td>79608</td>\n",
       "      <td>24</td>\n",
       "      <td>3317.0</td>\n",
       "      <td>A</td>\n",
       "    </tr>\n",
       "    <tr>\n",
       "      <th>1</th>\n",
       "      <td>PRIJEM</td>\n",
       "      <td>VKLAD</td>\n",
       "      <td>1000.0</td>\n",
       "      <td>1000.0</td>\n",
       "      <td>UNK</td>\n",
       "      <td>52788</td>\n",
       "      <td>12</td>\n",
       "      <td>4399.0</td>\n",
       "      <td>A</td>\n",
       "    </tr>\n",
       "    <tr>\n",
       "      <th>2</th>\n",
       "      <td>PRIJEM</td>\n",
       "      <td>VKLAD</td>\n",
       "      <td>1100.0</td>\n",
       "      <td>1100.0</td>\n",
       "      <td>UNK</td>\n",
       "      <td>21924</td>\n",
       "      <td>36</td>\n",
       "      <td>609.0</td>\n",
       "      <td>A</td>\n",
       "    </tr>\n",
       "    <tr>\n",
       "      <th>3</th>\n",
       "      <td>PRIJEM</td>\n",
       "      <td>VKLAD</td>\n",
       "      <td>700.0</td>\n",
       "      <td>700.0</td>\n",
       "      <td>UNK</td>\n",
       "      <td>23052</td>\n",
       "      <td>12</td>\n",
       "      <td>1921.0</td>\n",
       "      <td>A</td>\n",
       "    </tr>\n",
       "    <tr>\n",
       "      <th>4</th>\n",
       "      <td>PRIJEM</td>\n",
       "      <td>VKLAD</td>\n",
       "      <td>900.0</td>\n",
       "      <td>900.0</td>\n",
       "      <td>UNK</td>\n",
       "      <td>41904</td>\n",
       "      <td>12</td>\n",
       "      <td>3492.0</td>\n",
       "      <td>A</td>\n",
       "    </tr>\n",
       "    <tr>\n",
       "      <th>...</th>\n",
       "      <td>...</td>\n",
       "      <td>...</td>\n",
       "      <td>...</td>\n",
       "      <td>...</td>\n",
       "      <td>...</td>\n",
       "      <td>...</td>\n",
       "      <td>...</td>\n",
       "      <td>...</td>\n",
       "      <td>...</td>\n",
       "    </tr>\n",
       "    <tr>\n",
       "      <th>74359</th>\n",
       "      <td>PRIJEM</td>\n",
       "      <td>UNK</td>\n",
       "      <td>221.3</td>\n",
       "      <td>48019.4</td>\n",
       "      <td>UROK</td>\n",
       "      <td>131292</td>\n",
       "      <td>36</td>\n",
       "      <td>3647.0</td>\n",
       "      <td>A</td>\n",
       "    </tr>\n",
       "    <tr>\n",
       "      <th>74360</th>\n",
       "      <td>PRIJEM</td>\n",
       "      <td>UNK</td>\n",
       "      <td>227.6</td>\n",
       "      <td>108432.0</td>\n",
       "      <td>UROK</td>\n",
       "      <td>168984</td>\n",
       "      <td>24</td>\n",
       "      <td>7041.0</td>\n",
       "      <td>B</td>\n",
       "    </tr>\n",
       "    <tr>\n",
       "      <th>74361</th>\n",
       "      <td>PRIJEM</td>\n",
       "      <td>UNK</td>\n",
       "      <td>235.7</td>\n",
       "      <td>53703.3</td>\n",
       "      <td>UROK</td>\n",
       "      <td>182628</td>\n",
       "      <td>36</td>\n",
       "      <td>5073.0</td>\n",
       "      <td>A</td>\n",
       "    </tr>\n",
       "    <tr>\n",
       "      <th>74362</th>\n",
       "      <td>PRIJEM</td>\n",
       "      <td>UNK</td>\n",
       "      <td>293.0</td>\n",
       "      <td>85131.6</td>\n",
       "      <td>UROK</td>\n",
       "      <td>274740</td>\n",
       "      <td>60</td>\n",
       "      <td>4579.0</td>\n",
       "      <td>A</td>\n",
       "    </tr>\n",
       "    <tr>\n",
       "      <th>74363</th>\n",
       "      <td>PRIJEM</td>\n",
       "      <td>UNK</td>\n",
       "      <td>395.6</td>\n",
       "      <td>96741.4</td>\n",
       "      <td>UROK</td>\n",
       "      <td>151560</td>\n",
       "      <td>24</td>\n",
       "      <td>6315.0</td>\n",
       "      <td>A</td>\n",
       "    </tr>\n",
       "  </tbody>\n",
       "</table>\n",
       "<p>74364 rows × 9 columns</p>\n",
       "</div>"
      ],
      "text/plain": [
       "         type      operation  t_amount   balance k_symbol  l_amount  duration  \\\n",
       "0      PRIJEM  PREVOD Z UCTU   44749.0   45549.0      UNK     79608        24   \n",
       "1      PRIJEM          VKLAD    1000.0    1000.0      UNK     52788        12   \n",
       "2      PRIJEM          VKLAD    1100.0    1100.0      UNK     21924        36   \n",
       "3      PRIJEM          VKLAD     700.0     700.0      UNK     23052        12   \n",
       "4      PRIJEM          VKLAD     900.0     900.0      UNK     41904        12   \n",
       "...       ...            ...       ...       ...      ...       ...       ...   \n",
       "74359  PRIJEM            UNK     221.3   48019.4     UROK    131292        36   \n",
       "74360  PRIJEM            UNK     227.6  108432.0     UROK    168984        24   \n",
       "74361  PRIJEM            UNK     235.7   53703.3     UROK    182628        36   \n",
       "74362  PRIJEM            UNK     293.0   85131.6     UROK    274740        60   \n",
       "74363  PRIJEM            UNK     395.6   96741.4     UROK    151560        24   \n",
       "\n",
       "       payments status  \n",
       "0        3317.0      A  \n",
       "1        4399.0      A  \n",
       "2         609.0      A  \n",
       "3        1921.0      A  \n",
       "4        3492.0      A  \n",
       "...         ...    ...  \n",
       "74359    3647.0      A  \n",
       "74360    7041.0      B  \n",
       "74361    5073.0      A  \n",
       "74362    4579.0      A  \n",
       "74363    6315.0      A  \n",
       "\n",
       "[74364 rows x 9 columns]"
      ]
     },
<<<<<<< HEAD
     "execution_count": 9,
=======
     "execution_count": 28,
>>>>>>> 37b64fff4e096aa703661035effefcac8b09e01a
     "metadata": {},
     "output_type": "execute_result"
    }
   ],
   "source": [
    "# with applymap - gets every value (row AND column wise)\n",
    "data.applymap(clean_empty) # lmb"
   ]
  },
  {
   "cell_type": "code",
<<<<<<< HEAD
   "execution_count": 10,
=======
   "execution_count": 29,
>>>>>>> 37b64fff4e096aa703661035effefcac8b09e01a
   "metadata": {},
   "outputs": [
    {
     "data": {
<<<<<<< HEAD
      "image/png": "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\n",
=======
      "image/png": "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\n",
>>>>>>> 37b64fff4e096aa703661035effefcac8b09e01a
      "text/plain": [
       "<Figure size 720x576 with 2 Axes>"
      ]
     },
     "metadata": {
      "needs_background": "light"
     },
     "output_type": "display_data"
    }
   ],
   "source": [
    "corr_matrix=data.corr(method='pearson')  # default\n",
    "fig, ax = plt.subplots(figsize=(10, 8))\n",
    "ax = sns.heatmap(corr_matrix, annot=True)\n",
    "plt.show()"
   ]
  },
  {
   "cell_type": "code",
<<<<<<< HEAD
   "execution_count": 11,
=======
   "execution_count": 30,
>>>>>>> 37b64fff4e096aa703661035effefcac8b09e01a
   "metadata": {},
   "outputs": [
    {
     "name": "stderr",
     "output_type": "stream",
     "text": [
<<<<<<< HEAD
      "C:\\Users\\ASUS\\anaconda3\\lib\\site-packages\\seaborn\\distributions.py:2557: FutureWarning: `distplot` is a deprecated function and will be removed in a future version. Please adapt your code to use either `displot` (a figure-level function with similar flexibility) or `histplot` (an axes-level function for histograms).\n",
=======
      "/Users/abhimanyumittal/venv/lib/python3.8/site-packages/seaborn/distributions.py:2557: FutureWarning: `distplot` is a deprecated function and will be removed in a future version. Please adapt your code to use either `displot` (a figure-level function with similar flexibility) or `histplot` (an axes-level function for histograms).\n",
>>>>>>> 37b64fff4e096aa703661035effefcac8b09e01a
      "  warnings.warn(msg, FutureWarning)\n"
     ]
    },
    {
     "data": {
<<<<<<< HEAD
      "image/png": "iVBORw0KGgoAAAANSUhEUgAAAZsAAAEHCAYAAAB4POvAAAAAOXRFWHRTb2Z0d2FyZQBNYXRwbG90bGliIHZlcnNpb24zLjMuNCwgaHR0cHM6Ly9tYXRwbG90bGliLm9yZy8QVMy6AAAACXBIWXMAAAsTAAALEwEAmpwYAAAkl0lEQVR4nO3df5RcZZ3n8fe3qrvSv5L+kXRC0klIgCAGQQw9gKPOKsiPMI5hD6MD4oAeZxkUdp3xOGuYGfboOTt70N31rBxZEF01qAwy6kBUNGIcnSPDrwCZkAAhIUB+knQI/Svp3/3dP+5TSaXp7qok/VSlqz+vc+rUrafuc+9zy9gf7nOf+1xzd0RERGJKlboBIiJS/hQ2IiISncJGRESiU9iIiEh0ChsREYlOYSMiItFVlLoBJ6tZs2b5okWLSt0MEZFJ5emnn97v7s0jyxU2Y1i0aBHr1q0rdTNERCYVM3tttHJ1o4mISHQKGxERiU5hIyIi0UUNGzO7wsw2m9lWM1s5yvdmZneE7zeY2bJ8dc2sycweMbMt4b0xlF9qZk+b2XPh/eKcOr8N21ofXrNjHreIiBwtWtiYWRq4E1gOLAWuNbOlI1ZbDiwJrxuBuwqouxJY6+5LgLXhM8B+4E/c/RzgBuB7I/Z1nbufF177Ju5IRUQkn5hnNhcAW919m7v3A/cDK0asswK41xOPAw1mNjdP3RXAqrC8CrgKwN2fdffdoXwTUGVm0yIdm4iIHIOYYdMC7Mj5vDOUFbLOeHXnuPsegPA+WpfY1cCz7t6XU/ad0IV2m5nZsR6MiIgcv5hhM9of9JEPzxlrnULqjr5Ts7OBLwN/mVN8Xehee194/fkYdW80s3Vmtq6tra2Q3YmISAFi3tS5E1iQ83k+sLvAdTLj1N1rZnPdfU/ocjt8/cXM5gP/DFzv7i9ny919V3jvMrP7SLrp7h3ZYHe/B7gHoLW1tWhPlbvvie2jln/swoXFaoKISFQxz2yeApaY2WIzywDXAKtHrLMauD6MSrsI6AhdY+PVXU0yAIDw/hCAmTUAPwdudfdHszswswozmxWWK4EPARsn/GhFRGRM0c5s3H3QzG4B1gBp4NvuvsnMbgrf3w08DFwJbAUOAZ8cr27Y9O3AA2b2KWA78JFQfgtwBnCbmd0Wyi4DDgJrQtCkgV8D34x13CIi8lbmXrTeokmltbXVizU3mrrRRKRcmNnT7t46slwzCIiISHQKGxERiU5hIyIi0SlsREQkOoWNiIhEp7AREZHoFDYiIhKdwkZERKJT2IiISHQKGxERiU5hIyIi0SlsREQkOoWNiIhEp7AREZHoFDYiIhKdwkZERKJT2IiISHQKGxERiU5hIyIi0SlsREQkOoWNiIhEp7AREZHoFDYiIhKdwkZERKJT2IiISHQKGxERiU5hIyIi0SlsREQkOoWNiIhEp7AREZHoFDYiIhKdwkZERKJT2IiISHRRw8bMrjCzzWa21cxWjvK9mdkd4fsNZrYsX10zazKzR8xsS3hvDOWXmtnTZvZceL84p875oXxr2J/FPG4RETlatLAxszRwJ7AcWApca2ZLR6y2HFgSXjcCdxVQdyWw1t2XAGvDZ4D9wJ+4+znADcD3cvZzV9h+dl9XTNyRiohIPjHPbC4Atrr7NnfvB+4HVoxYZwVwryceBxrMbG6euiuAVWF5FXAVgLs/6+67Q/kmoMrMpoXtzXD3x9zdgXuzdUREpDhihk0LsCPn885QVsg649Wd4+57AML77FH2fTXwrLv3hXo787RDREQiqoi47dGui3iB6xRSd/Sdmp0NfBm47Bjaka17I0l3GwsXLixkdyIiUoCYZzY7gQU5n+cDuwtcZ7y6e0PXGOF9X3YlM5sP/DNwvbu/nLOP+XnaAYC73+Pure7e2tzcnPcARUSkMDHD5ilgiZktNrMMcA2wesQ6q4Hrw6i0i4CO0DU2Xt3VJAMACO8PAZhZA/Bz4FZ3fzS7g7C9LjO7KIxCuz5bR0REiiNa2Lj7IHALsAZ4AXjA3TeZ2U1mdlNY7WFgG7AV+CbwmfHqhjq3A5ea2Rbg0vCZsP4ZwG1mtj68stdzPg18K+znZeAXkQ5bRERGYckALRmptbXV161bV5R93ffE9lHLP3ahrhuJyORiZk+7e+vIcs0gICIi0SlsREQkOoWNiIhEp7AREZHoFDYiIhKdwkZERKJT2IiISHQKGxERiU5hIyIi0SlsREQkOoWNiIhEp7AREZHoFDYiIhKdwkZERKJT2IiISHQKGxERiU5hIyIi0SlsREQkOoWNiIhEp7AREZHoFDYiIhKdwkZERKJT2IiISHQKGxERiU5hIyIi0SlsREQkOoWNiIhEp7AREZHoFDYiIhKdwkZERKJT2IiISHQKGxERiU5hIyIi0UUNGzO7wsw2m9lWM1s5yvdmZneE7zeY2bJ8dc2sycweMbMt4b0xlM80s38xs24z+/qI/fw2bGt9eM2OedwiInK0aGFjZmngTmA5sBS41syWjlhtObAkvG4E7iqg7kpgrbsvAdaGzwC9wG3A58do0nXufl547ZuAQxQRkQLFPLO5ANjq7tvcvR+4H1gxYp0VwL2eeBxoMLO5eequAFaF5VXAVQDuftDdf08SOiIichIpKGzM7Mdm9sdmdizh1ALsyPm8M5QVss54dee4+x6A8F5ol9h3QhfabWZmo61gZjea2TozW9fW1lbgZkVEJJ9Cw+Mu4GPAFjO73czOKqDOaH/QvcB1Cql7LK5z93OA94XXn4+2krvf4+6t7t7a3Nx8ArsTEZFcBYWNu//a3a8DlgGvAo+Y2b+Z2SfNrHKMajuBBTmf5wO7C1xnvLp7Q1cb4T3v9Rd33xXeu4D7SLrpRESkSAruFjOzmcAngL8AngW+RhI+j4xR5SlgiZktNrMMcA2wesQ6q4Hrw6i0i4CO0DU2Xt3VwA1h+QbgoTztrjCzWWG5EvgQsLGwoxYRkYlQUchKZvYT4Czge8CfZK+ZAD80s3Wj1XH3QTO7BVgDpIFvu/smM7spfH838DBwJbAVOAR8cry6YdO3Aw+Y2aeA7cBHctr5KjADyJjZVcBlwGvAmhA0aeDXwDcLOW4REZkYBYUN8C13fzi3wMymuXufu7eOVSnUeXhE2d05yw7cXGjdUP4GcMkYdRaN0ZTzx2qjiIjEV2g32n8fpeyxiWyIiIiUr3HPbMzsFJIhx9Vm9i6OjBKbAdREbpuIiJSJfN1ol5MMCpgPfDWnvAv420htEhGRMjNu2Lj7KmCVmV3t7j8uUpumlP3dfTy+7Q3aDw1w0WlNNNRkSt0kEZEJl68b7ePu/n1gkZl9buT37v7VUarJMfjqIy+x+t+TW4gyFSkuPktzhIpI+cnXjVYb3utiN2Sq2nHgEC0N1XT2DnDgYH+pmyMiEkW+brRvhPcvFac5U8/u9h4aaiqpSJvCRkTKVqETcX7FzGaYWaWZrTWz/Wb28diNK3fuzu72XhqqK5lZm+HAwb5SN0lEJIpC77O5zN07SaZ62QmcCfxNtFZNER09A/QMDFFfk6GpNkNn7yADQ8OlbpaIyIQrNGyyk21eCfyjux+I1J4pZXd78uid+upKmmqnAfCmutJEpAwVGjY/NbMXgVZgrZk1o4eUnbA9HT0ANFRX0lSbDHnWdRsRKUcFzY3m7ivN7MtAp7sPmdlB3vrUTTlGuzuOnNmkUsnkDG8obESkDBU6ESfA20nut8mtc+8Et2dK2d3eQ2XaqKuqwIBpFSmd2YhIWSr0EQPfA04H1gNDodhR2JyQPe09zJlRRSo8pbqpNqOwEZGyVOiZTSuwNDwSQCbI7o5e5tVXH/7cVJthX6eGP4tI+Sl0gMBG4JSYDZmK9nT0MLeh6vDnppoMbx7qR5kuIuWm0DObWcDzZvYkcPg/vd39w1FaNQUMDzuvd/QyN+fMpq6qgsFhp29wmKrKdAlbJyIysQoNmy/GbMRUtP9gHwNDzrycM5u6acn/HN29gwobESkrBXWjufvvgFeByrD8FPBMxHaVvexAgJnhZk6A6VXJvbNdfYMlaZOISCyFzo32n4AfAd8IRS3Ag5HaNCV0HBoAoKGm8nDZ4TMbhY2IlJlCBwjcDLwH6ARw9y2AHrxyAjp6krCpr84Jm6psN9pASdokIhJLoWHT5+6HbwAJN3ZqyNQJGC1sajJpDJ3ZiEj5KTRsfmdmfwtUm9mlwD8BP43XrPKXDZsZOWGTMqN2WoXCRkTKTqFhsxJoA54D/hJ4GPj7WI2aCjp7BjCD6dOOHhBYN62C7l6FjYiUl0In4hw2sweBB929LW6TpoaOngFmVB2ZgDOrrkpnNiJSfsY9s7HEF81sP/AisNnM2szsvxWneeWro2fgqOs1WXXqRhORMpSvG+2vSEah/YG7z3T3JuBC4D1m9texG1fO2vOEjaasEZFyki9srgeudfdXsgXuvg34ePhOjtN4ZzYDQ07/oB4PLSLlI1/YVLr7/pGF4brNW/9SSsHGDJsq3dgpIuUnX9iM93AVPXjlBHT2DBw17DlLswiISDnKNxrtnWbWOUq5AVWjlEsB3J2OnoGjpqrJyoZNl4Y/i0gZGTds3F1TD0fQMzDEwJCrG01EpoxCb+o8LmZ2hZltNrOtZrZylO/NzO4I328ws2X56ppZk5k9YmZbwntjKJ9pZv9iZt1m9vUR+znfzJ4L27rDzI6+uaXIRpuqJqs2U6Epa0Sk7EQLGzNLA3cCy4GlwLVmtnTEasuBJeF1I3BXAXVXAmvdfQmwNnwG6AVuAz4/SnPuCtvP7uuKCTjE4zZe2KRTRk0mrVkERKSsxDyzuQDY6u7bwiSe9wMrRqyzArjXE48DDWY2N0/dFcCqsLwKuArA3Q+6++9JQuewsL0Z7v6YJzev3JutUyrZxwuMFjagWQREpPzEDJsWYEfO552hrJB1xqs7x933AIT3fI86aAn1x2tHUY13ZgOaRUBEyk/MsBntusjI2+LHWqeQuhPZjmRFsxvNbJ2ZrWtrizcFXLvCRkSmmJhhsxNYkPN5PrC7wHXGq7s3dI1lu8j2FdCO+XnaAYC73+Pure7e2tzcnGezx69zlMcL5NLMzyJSbmKGzVPAEjNbbGYZ4Bpg9Yh1VgPXh1FpFwEdoWtsvLqrgRvC8g3AQ+M1Imyvy8wuCqPQrs9XJ7aOMR4vkFVXVUn/0DCH+hU4IlIeCnrEwPFw90EzuwVYA6SBb7v7JjO7KXx/N8lzca4EtgKHgE+OVzds+nbgATP7FLAd+Eh2n2b2KjADyJjZVcBl7v488Gngu0A18IvwKpmxHi+Qlb2xc39XPwtnRvufSESkaKL+JXP3h0kCJbfs7pxlB24utG4ofwO4ZIw6i8YoXwe8o9B2xzbWvGhZ2bBp6+5j4cyaYjVLRCSaqDd1yuiSedHGzvnsLAJtXX3FapKISFQKmxLo6h1kRlX+M5v93QobESkPCpsS6OodZHrVOGc2ChsRKTMKmxLo7B1g+jhnNumUUV2ZVtiISNlQ2JRAvm40SK7b7O/SI4NEpDwobIpsaNjp7hu/Gw2Se3B0ZiMi5UJhU2TZmQHGmj0gq65KYSMi5UNhU2SdvclUNfnObOqmVbC/W91oIlIeFDZFln3c84wCutG6+wY5qAk5RaQMKGyKLHtmk2+AQH1NBoA9HT3R2yQiEpvCpsiyZzbjDX0GaAjXdHa+qbARkclPYVNkXQVes2moScJmd3vvuOuJiEwGCpsiy/csm6zpVZWkU8au9kPFaJaISFQKmyI70o02/plNOmWcMqNKZzYiUhYUNkXW1TdIVWWKynT+n76lsZpdumYjImVAYVNkneHBaYVoaahmV7vCRkQmP4VNkeWb8TlXS0M1r3f2Mjg0HLlVIiJxKWyKLN+Mz7nmNVQzNOzs1UPURGSSU9gUWWfvYN6RaFktjdUA7FZXmohMcgqbIuvqHTimbjRAgwREZNJT2BRZZ89g3nnRsuY1VAFokICITHoKmyLr6i18NFpNpoLm6dN4ua07cqtEROJS2BRR3+AQfYPDBXejASydO4MX9nRFbJWISHwKmyLqKvDBabmWzpvB1n1d9A9q+LOITF4KmyIqdKqaXEvnzmBgyNmyT2c3IjJ5KWyKKDsJ5/Rpx3ZmA/D87s4obRIRKQaFTRG1h7BprC08bBbNrKW6Ms3zexQ2IjJ5KWyKqP1QPwD11ZmC66RTxllzp+vMRkQmNYVNEWW70eqPYYAAJNdtnt/TibvHaJaISHQKmyJqP3R8YXPu/Hq6egfZvFeDBERkclLYFFF7zwC1mTSZimP72T9w1mzMYM3GvZFaJiISl8KmiNoPDdBQU/j1mqzZ06toPbWRX256PUKrRETiU9gUUUdP/zF3oWVdfvYpvLCnk9feODjBrRIRiS9q2JjZFWa22cy2mtnKUb43M7sjfL/BzJblq2tmTWb2iJltCe+NOd/dGtbfbGaX55T/NpStD6/ZMY97LO2HBo4pbO57YvvhV99AMoPALzfq7EZEJp9oYWNmaeBOYDmwFLjWzJaOWG05sCS8bgTuKqDuSmCtuy8B1obPhO+vAc4GrgD+b9hO1nXufl547Zvo4y1ER88ADTXHd2bTWJthYVMN9z72mqauEZFJJ+aZzQXAVnff5u79wP3AihHrrADu9cTjQIOZzc1TdwWwKiyvAq7KKb/f3fvc/RVga9jOSaP9BMIG4JKzZrOrvYcH1u2YwFaJiMQXM2xagNy/ijtDWSHrjFd3jrvvAQjv2S6xfPv7TuhCu83M7NgP58S4Ox2HBo7phs6RzphdR+upjXz9N1vp6R+awNaJiMQVM2xG+4M+8q7EsdYppO6x7O86dz8HeF94/fmoGzC70czWmdm6tra2PLs7Nj0DQ/QPDZ/QmY2Z8TeXv43XO3v5ypoXJ7B1IiJxxQybncCCnM/zgd0FrjNe3b2hq43wnr3+MmYdd98V3ruA+xije83d73H3VndvbW5uLuAQC5e9obPhOEejZV142kyuf/epfOfRV/m3l/dPRNNERKKLGTZPAUvMbLGZZUgu3q8esc5q4PowKu0ioCN0jY1XdzVwQ1i+AXgop/waM5tmZotJBh08aWYVZjYLwMwqgQ8BG2Mc8HiOd/aAke57YjunzapjZm2Gz/zgGb79+1e474ntE9FEEZFoooWNuw8CtwBrgBeAB9x9k5ndZGY3hdUeBraRXMz/JvCZ8eqGOrcDl5rZFuDS8Jnw/QPA88AvgZvdfQiYBqwxsw3AemBX2FdRdWTnRTuBbrSsTEWKj5w/n45DA/z8uT0nvD0RkdgKf4rXcXD3h0kCJbfs7pxlB24utG4ofwO4ZIw6/wD8w4iyg8D5x9r2idbRk8z43HACAwRyLZxZyx+d2czvXmrjzDnTJ2SbIiKxaAaBIjl8zWYCzmyyLnn7bBY0VvOTZ3ayra17wrYrIjLRFDZFkn1w2kSGTUUqxbUXLCSdMj7zg2c0HFpETloKmyJpPzRAZdqorkznX/kYNNRk+GjrAjbv7eLvH9yoZ96IyElJYVMkySScGWLcT3rmnOn85w+cwY+f2ck/PqnZBUTk5KOwKZITmRetEJ/94Jn80ZnNfHH1JtbvaI+2HxGR46GwKZI3uvtpOo5n2RQqnTK+9mfnMXvGND79/afZ390XbV8iIsdKYVMk+7r6aJ4xLdr273tiO7/Y+DorzmuhrauPj979GINDmh1aRE4OCpsi2dvZy5zpVdH309JQzVXntbBt/0G+smZz9P2JiBRCYVME3X2DHOofYk7EM5tcy05t5MLFTdzzr9v4+QbNMCAipaewKYK9nb0AzC5S2AD88blzWbawgS/8eAM7Dhwq2n5FREajsCmCfZ3JxfpidKNlVaRS3HHtuzCDv/rhel2/EZGSUtgUwb6u4p/ZAPzrS/tZ/o65PP3am9z0/ae574ntmiFaREpCYVMER7rRindmk3XeggbeOb+e37y4T91pIlIyCpsi2NfZR3VlmunTok6yPaYPv7OFGVWVPLBuB32Dmj9NRIpPYVMEe7v6mD1jWpSpagpRnUnzkdYFHDjYr9FpIlISCpsi2Feke2zGs3hWLf/hzGbWvfYmv9z4eknbIiJTj8KmCGLPHlCoS94+h5aGalb+ZMPh60giIsWgsCmCYs0ekE86ZfxZ6wL6Bob53AMaDi0ixaOwiazYswfkM2v6NL604mwe3foGX/zpJj3/RkSKojTDo6aQUswekM9HWxfwcls33/jdNppqMvz1pWeWbPCCiEwNCpvI9rQnYTOnBPfYjOcLl5/Fge5+7vjNVjp6Bvj7Dy2lMq0TXRGJQ2ET2ZZ9XQCcMbuuxC05WiplfPnqc6mvruRbv3+FDbs6+OpHz2PxrNpSN01EypDCJrKX9nbRVJuhue7k6UbLnbLmtOY6rvmDBTy4fheXfvV3XHfhQj7xnsUKHRGZUAqbyDa/3sWZc+pO6msi585vYPGsWl594yDff2I7qx57jfeeMYtrL1jIxWfNpjqTLnUTRWSSU9hE5O68tLebq5e1lLopeU2vquSclgZObapl3Wtvsu7VA9x83zNUVaZ435JmLls6h0vePoem2niPthaR8qWwiWh3Ry/dfYOcecr0UjelYDOqK7n4rNm8/23NvLL/IEPDzq82vc4jz+8lZbBsYSPvOWMW7zljFuctaCBToUEFIpKfwiail15PBge8bc7kCZuslBmnNyeDGpbMrmN3ey/P7+lgy75u7li7ha+t3UJNJs0Fi5t47xmz+MPTZ3HWKdNJpU7e7kIRKR2FTUSb9yZhs2QShk0uM6OlsZqWxmouXQo9/UNs29/N1n3dbNzVyW83twEwszbDu0+fSeupjZw6s5b5jdWcUl9FTaaCtEJIZEpT2ET00utdzK2vor66stRNmVDVmTRnz6vn7Hn1AHT0DPDyvm6G3Hl0635+NsrM0hUpI1ORSl7p5H1+YzU1mQqmV1Uwr6GaBY01zG+sDq8addGJlBGFTSTuzlOvHWDp3Bmlbkp09dWVLDu1kY9duBB3Z19XHzvfPMSOAz3s6+rliW0H6B8apn8wvIaGGRga5vWOXvoHh+kZGKKjZ4DhnJlz0iljQWM1pzfXcVpzbXiv4/TmWppqMyf16D4ReSuFTSTP7mhnx4EePnvJmaVuStGM9sjpummVXPL2OXnrDrvT2TPAm4cGePNQP29099PW3cem3Z387qU2BnOSqLoyzdz6Kj64dA7ntNRzTks9p86sUQCJnMQUNpGsXr+bTEWKy8/O/4dWkgEJDTUZGmoyLOboG0qH3Wk/NEBbVx/7u/vY19XL7vZevvvoq/SHmaunV1Xwjnn1nDu/nneEAJrfWE2FpuAROSkobCIYHBrmZxt288G3z2Z6VXldrymFlBlNtRmaajO8jSODLQaHh9nX2ceuN3vY1d7D9gOHePLVAwyFsyAzaKrJMKtuGrXT0lSmj1wzqkynqKxIUZk2KlJGRTqVvKdSVGTLUpZsJGdm7OxStshDyZHPR4xcJ2WWtGd6hua6KmZNT9rWVJPRKD4pe1HDxsyuAL4GpIFvufvtI7638P2VwCHgE+7+zHh1zawJ+CGwCHgV+Ki7vxm+uxX4FDAE/Bd3XxPKzwe+C1QDDwOf9Yhz6//o6Z3s7+7nw++cF2sXAlSkUsxrqGZeQzV/EMqyAbS7vYf2ngG6ewfp7huks3eQoWFncGiYIfew7AyH5WEnvB9dljVaFIzstbPsWpZbdoQ7DI3yzy6dSsJ0RlVFEkuehJZ70oZh96TusGMGNZk0tdMqqM1U0FBTSUNNJfXVmWS5upL66koyFSkq0ikqU0Y6hGkSrMl7ZTrFKfVVVFVqdggpjmhhY2Zp4E7gUmAn8JSZrXb353NWWw4sCa8LgbuAC/PUXQmsdffbzWxl+PwFM1sKXAOcDcwDfm1mZ7r7UNjujcDjJGFzBfCLGMf9xLY3uO2hjfzh6TP5YAHXKmRi5QbQycbd6Rscprt3kK6+JAS7eweS5d5BegeHD4dTNshSlkSYmSVlDv1Dw/QNDNPR08PLbd309A9xqH9o1CAbjxksaKzhjNl1LJlTx5mzp/O2U6bT0lBNfXWlzrZkQsU8s7kA2Oru2wDM7H5gBZAbNiuAe8NZxuNm1mBmc0nOWsaquwJ4f6i/Cvgt8IVQfr+79wGvmNlW4AIzexWY4e6PhW3dC1xFhLDpHxzmcw/8OwuaarjruvN1vUCOYmZUVaapqkwza/rETszq7vQPDdPTP0TPwBBDw289YztS5gwOOwcO9tPW1cfzYRDGUM6pXEXKmFmXoSZTgVkSeqnwDiEEQy+jkV3OBmNyRnd4HZICO8Z6ZL8fo146ZaTNMDPSqeSzWVKWLHN4OZVK2p+27HIoD8eVPqqMtwTtyBwfK9aPHMeRto/8DeDoY54oE7mtD7+zZcLvjYsZNi3AjpzPO0nOXvKt05Kn7hx33wPg7nvMbHbOth4fZVsDYXlk+VuY2Y0kZ0AA3Wa2eayDy6fh88e0+ixg//Huqwzo+E/C43+5uLs7KX+DIiqn4z91tMKYYTNaLI78D4Kx1imkbqH7K3hb7n4PcE+e/Uw4M1vn7q3F3u/JQsc/tY8f9BtMheOP2c+zE1iQ83k+sLvAdcaruzd0tRHe9xWwrfl52iEiIhHFDJungCVmttjMMiQX71ePWGc1cL0lLgI6QhfZeHVXAzeE5RuAh3LKrzGzaWa2mGTQwZNhe11mdlEY/XZ9Th0RESmCaN1o7j5oZrcAa0iGL3/b3TeZ2U3h+7tJRoZdCWwlGfr8yfHqhk3fDjxgZp8CtgMfCXU2mdkDJIMIBoGbw0g0gE9zZOjzL4g0Eu0EFL3r7iSj45ep/huU/fFbxNtNREREgLjdaCIiIoDCRkREikBhU0JmdoWZbTazrWE2hEnLzBaY2b+Y2QtmtsnMPhvKm8zsETPbEt4bc+rcGo59s5ldnlN+vpk9F767IwzsIAz++GEof8LMFhX9QPMws7SZPWtmPwufp8zxh5uyf2RmL4Z/B++eSscPYGZ/Hf79bzSzfzSzqqn2G4zJ3fUqwYtk4MPLwGlABvh3YGmp23UCxzMXWBaWpwMvAUuBrwArQ/lK4MtheWk45mnA4vBbpMN3TwLvJrlH6hfA8lD+GeDusHwN8MNSH/cov8PngPuAn4XPU+b4SWb0+IuwnAEaptjxtwCvANXh8wPAJ6bSbzDu71PqBkzVV/iHtCbn863AraVu1wQe30Mkc9ttBuaGsrnA5tGOl2Tk4bvDOi/mlF8LfCN3nbBcQXLHtZX6WHPaOh9YC1ycEzZT4viBGeEPrY0onxLHH9qUnfmkKbTvZ8BlU+k3GO+lbrTSGWuqnkkvnNq/C3iCEdMLAbnTC401VdFY0wsdruPug0AHMDPKQRyf/wP8V2A4p2yqHP9pQBvwndCN+C0zq2XqHD/uvgv4XyS3ZOwhuW/wV0yh32A8CpvSOZ4peU56ZlYH/Bj4K3fvHG/VUcryTS900v5mZvYhYJ+7P11olVHKJu3xk/xX9jLgLnd/F3CQpMtoLOV2/IRrMStIusTmAbVm9vHxqoxSNql/g/EobEqnkOl8JhUzqyQJmh+4+09C8UROL3S4jplVAPXAgYk/kuPyHuDDlswyfj9wsZl9n6lz/DuBne7+RPj8I5LwmSrHD/BB4BV3b3P3AeAnwB8ytX6DMSlsSqeQ6XwmjTBa5v8BL7j7V3O+msjphXK39afAbzx0Xpeau9/q7vPdfRHJ/5a/cfePM3WO/3Vgh5m9LRRdQjKbx5Q4/mA7cJGZ1YS2XwK8wNT6DcZW6otGU/lFMlXPSySjUP6u1O05wWN5L8np/AZgfXhdSdKfvBbYEt6bcur8XTj2zYTRNqG8FdgYvvs6R2a6qAL+iWR6oyeB00p93GP8Fu/nyACBKXP8wHnAuvBv4EGgcSodf2jjl4AXQ/u/RzLSbEr9BmO9NF2NiIhEp240ERGJTmEjIiLRKWxERCQ6hY2IiESnsBGJIExK+ZlSt6MQZvYJM5tX6nZIeVPYiMTRQDJp4mTwCZI73kWiUdiIxHE7cLqZrTez/znySzOrM7O1ZvZMmEp+RShfFKbo/1aYpv4HZvZBM3s0TFF/QVivycweNLMNZva4mZ0byr9oZp/P2c/GsM1Flkz7/80wBf6vzKzazP6U5J6OH4S2Vhfl15EpR2EjEsdK4GV3P8/d/2aU73uB/+juy4APAP87+8wS4Azga8C5wFnAx0humv088LdhnS8Bz7r7uaHs3gLatAS4093PBtqBq939RyQ3Yl4X2tpz7Icqkl9FqRsgMkUZ8D/M7I9IZoluAeaE715x9+cAzGwTsNbd3cyeAxaFdd4LXA3g7r8xs5lmVp9nn6+4+/qw/HTOtkSiU9iIlMZ1QDNwvrsPhAk8q8J3fTnrDed8HubI/2fHmv13kKN7LKpylnO3OwSoy0yKRt1oInF0kTyxdCz1JI8kGDCzDwCnHuP2/5UksDCz9wP7PXmkw6sksy1jZstIprs/0baKnDCFjUgE7v4G8Gi4QP+WAQLAD4BWM1tHEhovHuMuvhjqbyAZjJCdCfjHQJOZrQc+TTLRaz7fBe7WAAGJSRNxiohIdDqzERGR6DRAQCQiMzuH5Lkmufrc/cJStEekVNSNJiIi0akbTUREolPYiIhIdAobERGJTmEjIiLRKWxERCQ6hY2IiET3/wFUFlZC73JDuwAAAABJRU5ErkJggg==\n",
=======
      "image/png": "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\n",
>>>>>>> 37b64fff4e096aa703661035effefcac8b09e01a
      "text/plain": [
       "<Figure size 432x288 with 1 Axes>"
      ]
     },
     "metadata": {
      "needs_background": "light"
     },
     "output_type": "display_data"
    },
    {
     "name": "stderr",
     "output_type": "stream",
     "text": [
<<<<<<< HEAD
      "C:\\Users\\ASUS\\anaconda3\\lib\\site-packages\\seaborn\\distributions.py:2557: FutureWarning: `distplot` is a deprecated function and will be removed in a future version. Please adapt your code to use either `displot` (a figure-level function with similar flexibility) or `histplot` (an axes-level function for histograms).\n",
=======
      "/Users/abhimanyumittal/venv/lib/python3.8/site-packages/seaborn/distributions.py:2557: FutureWarning: `distplot` is a deprecated function and will be removed in a future version. Please adapt your code to use either `displot` (a figure-level function with similar flexibility) or `histplot` (an axes-level function for histograms).\n",
>>>>>>> 37b64fff4e096aa703661035effefcac8b09e01a
      "  warnings.warn(msg, FutureWarning)\n"
     ]
    },
    {
     "data": {
<<<<<<< HEAD
      "image/png": "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\n",
=======
      "image/png": "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\n",
>>>>>>> 37b64fff4e096aa703661035effefcac8b09e01a
      "text/plain": [
       "<Figure size 432x288 with 1 Axes>"
      ]
     },
     "metadata": {
      "needs_background": "light"
     },
     "output_type": "display_data"
    },
    {
     "name": "stderr",
     "output_type": "stream",
     "text": [
<<<<<<< HEAD
      "C:\\Users\\ASUS\\anaconda3\\lib\\site-packages\\seaborn\\distributions.py:2557: FutureWarning: `distplot` is a deprecated function and will be removed in a future version. Please adapt your code to use either `displot` (a figure-level function with similar flexibility) or `histplot` (an axes-level function for histograms).\n",
=======
      "/Users/abhimanyumittal/venv/lib/python3.8/site-packages/seaborn/distributions.py:2557: FutureWarning: `distplot` is a deprecated function and will be removed in a future version. Please adapt your code to use either `displot` (a figure-level function with similar flexibility) or `histplot` (an axes-level function for histograms).\n",
>>>>>>> 37b64fff4e096aa703661035effefcac8b09e01a
      "  warnings.warn(msg, FutureWarning)\n"
     ]
    },
    {
     "data": {
<<<<<<< HEAD
      "image/png": "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\n",
=======
      "image/png": "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\n",
>>>>>>> 37b64fff4e096aa703661035effefcac8b09e01a
      "text/plain": [
       "<Figure size 432x288 with 1 Axes>"
      ]
     },
     "metadata": {
      "needs_background": "light"
     },
     "output_type": "display_data"
    },
    {
     "name": "stderr",
     "output_type": "stream",
     "text": [
<<<<<<< HEAD
      "C:\\Users\\ASUS\\anaconda3\\lib\\site-packages\\seaborn\\distributions.py:2557: FutureWarning: `distplot` is a deprecated function and will be removed in a future version. Please adapt your code to use either `displot` (a figure-level function with similar flexibility) or `histplot` (an axes-level function for histograms).\n",
=======
      "/Users/abhimanyumittal/venv/lib/python3.8/site-packages/seaborn/distributions.py:2557: FutureWarning: `distplot` is a deprecated function and will be removed in a future version. Please adapt your code to use either `displot` (a figure-level function with similar flexibility) or `histplot` (an axes-level function for histograms).\n",
>>>>>>> 37b64fff4e096aa703661035effefcac8b09e01a
      "  warnings.warn(msg, FutureWarning)\n"
     ]
    },
    {
     "data": {
<<<<<<< HEAD
      "image/png": "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\n",
=======
      "image/png": "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\n",
>>>>>>> 37b64fff4e096aa703661035effefcac8b09e01a
      "text/plain": [
       "<Figure size 432x288 with 1 Axes>"
      ]
     },
     "metadata": {
      "needs_background": "light"
     },
     "output_type": "display_data"
    },
    {
     "name": "stderr",
     "output_type": "stream",
     "text": [
<<<<<<< HEAD
      "C:\\Users\\ASUS\\anaconda3\\lib\\site-packages\\seaborn\\distributions.py:2557: FutureWarning: `distplot` is a deprecated function and will be removed in a future version. Please adapt your code to use either `displot` (a figure-level function with similar flexibility) or `histplot` (an axes-level function for histograms).\n",
=======
      "/Users/abhimanyumittal/venv/lib/python3.8/site-packages/seaborn/distributions.py:2557: FutureWarning: `distplot` is a deprecated function and will be removed in a future version. Please adapt your code to use either `displot` (a figure-level function with similar flexibility) or `histplot` (an axes-level function for histograms).\n",
>>>>>>> 37b64fff4e096aa703661035effefcac8b09e01a
      "  warnings.warn(msg, FutureWarning)\n"
     ]
    },
    {
     "data": {
<<<<<<< HEAD
      "image/png": "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\n",
=======
      "image/png": "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\n",
>>>>>>> 37b64fff4e096aa703661035effefcac8b09e01a
      "text/plain": [
       "<Figure size 432x288 with 1 Axes>"
      ]
     },
     "metadata": {
      "needs_background": "light"
     },
     "output_type": "display_data"
    }
   ],
   "source": [
    "for col in data.select_dtypes(np.number):\n",
    "    sns.distplot(data[col])\n",
    "    plt.show()"
   ]
  },
  {
   "cell_type": "code",
<<<<<<< HEAD
   "execution_count": 14,
=======
   "execution_count": 31,
>>>>>>> 37b64fff4e096aa703661035effefcac8b09e01a
   "metadata": {},
   "outputs": [],
   "source": [
    "y = data['status']\n",
    "X = data.drop('status', axis=1)"
   ]
  },
  {
   "cell_type": "code",
<<<<<<< HEAD
   "execution_count": 16,
=======
   "execution_count": 33,
>>>>>>> 37b64fff4e096aa703661035effefcac8b09e01a
   "metadata": {},
   "outputs": [
    {
     "data": {
      "text/html": [
       "<div>\n",
       "<style scoped>\n",
       "    .dataframe tbody tr th:only-of-type {\n",
       "        vertical-align: middle;\n",
       "    }\n",
       "\n",
       "    .dataframe tbody tr th {\n",
       "        vertical-align: top;\n",
       "    }\n",
       "\n",
       "    .dataframe thead th {\n",
       "        text-align: right;\n",
       "    }\n",
       "</style>\n",
       "<table border=\"1\" class=\"dataframe\">\n",
       "  <thead>\n",
       "    <tr style=\"text-align: right;\">\n",
       "      <th></th>\n",
       "      <th>type</th>\n",
       "      <th>operation</th>\n",
       "      <th>t_amount</th>\n",
       "      <th>balance</th>\n",
       "      <th>k_symbol</th>\n",
       "      <th>l_amount</th>\n",
       "      <th>duration</th>\n",
       "      <th>payments</th>\n",
       "    </tr>\n",
       "  </thead>\n",
       "  <tbody>\n",
       "    <tr>\n",
       "      <th>0</th>\n",
       "      <td>PRIJEM</td>\n",
       "      <td>PREVOD Z UCTU</td>\n",
       "      <td>44749.0</td>\n",
       "      <td>45549.0</td>\n",
       "      <td>UNK</td>\n",
       "      <td>79608</td>\n",
       "      <td>24</td>\n",
       "      <td>3317.0</td>\n",
       "    </tr>\n",
       "    <tr>\n",
       "      <th>1</th>\n",
       "      <td>PRIJEM</td>\n",
       "      <td>VKLAD</td>\n",
       "      <td>1000.0</td>\n",
       "      <td>1000.0</td>\n",
       "      <td>UNK</td>\n",
       "      <td>52788</td>\n",
       "      <td>12</td>\n",
       "      <td>4399.0</td>\n",
       "    </tr>\n",
       "    <tr>\n",
       "      <th>2</th>\n",
       "      <td>PRIJEM</td>\n",
       "      <td>VKLAD</td>\n",
       "      <td>1100.0</td>\n",
       "      <td>1100.0</td>\n",
       "      <td>UNK</td>\n",
       "      <td>21924</td>\n",
       "      <td>36</td>\n",
       "      <td>609.0</td>\n",
       "    </tr>\n",
       "    <tr>\n",
       "      <th>3</th>\n",
       "      <td>PRIJEM</td>\n",
       "      <td>VKLAD</td>\n",
       "      <td>700.0</td>\n",
       "      <td>700.0</td>\n",
       "      <td>UNK</td>\n",
       "      <td>23052</td>\n",
       "      <td>12</td>\n",
       "      <td>1921.0</td>\n",
       "    </tr>\n",
       "    <tr>\n",
       "      <th>4</th>\n",
       "      <td>PRIJEM</td>\n",
       "      <td>VKLAD</td>\n",
       "      <td>900.0</td>\n",
       "      <td>900.0</td>\n",
       "      <td>UNK</td>\n",
       "      <td>41904</td>\n",
       "      <td>12</td>\n",
       "      <td>3492.0</td>\n",
       "    </tr>\n",
       "    <tr>\n",
       "      <th>...</th>\n",
       "      <td>...</td>\n",
       "      <td>...</td>\n",
       "      <td>...</td>\n",
       "      <td>...</td>\n",
       "      <td>...</td>\n",
       "      <td>...</td>\n",
       "      <td>...</td>\n",
       "      <td>...</td>\n",
       "    </tr>\n",
       "    <tr>\n",
       "      <th>74359</th>\n",
       "      <td>PRIJEM</td>\n",
       "      <td>UNK</td>\n",
       "      <td>221.3</td>\n",
       "      <td>48019.4</td>\n",
       "      <td>UROK</td>\n",
       "      <td>131292</td>\n",
       "      <td>36</td>\n",
       "      <td>3647.0</td>\n",
       "    </tr>\n",
       "    <tr>\n",
       "      <th>74360</th>\n",
       "      <td>PRIJEM</td>\n",
       "      <td>UNK</td>\n",
       "      <td>227.6</td>\n",
       "      <td>108432.0</td>\n",
       "      <td>UROK</td>\n",
       "      <td>168984</td>\n",
       "      <td>24</td>\n",
       "      <td>7041.0</td>\n",
       "    </tr>\n",
       "    <tr>\n",
       "      <th>74361</th>\n",
       "      <td>PRIJEM</td>\n",
       "      <td>UNK</td>\n",
       "      <td>235.7</td>\n",
       "      <td>53703.3</td>\n",
       "      <td>UROK</td>\n",
       "      <td>182628</td>\n",
       "      <td>36</td>\n",
       "      <td>5073.0</td>\n",
       "    </tr>\n",
       "    <tr>\n",
       "      <th>74362</th>\n",
       "      <td>PRIJEM</td>\n",
       "      <td>UNK</td>\n",
       "      <td>293.0</td>\n",
       "      <td>85131.6</td>\n",
       "      <td>UROK</td>\n",
       "      <td>274740</td>\n",
       "      <td>60</td>\n",
       "      <td>4579.0</td>\n",
       "    </tr>\n",
       "    <tr>\n",
       "      <th>74363</th>\n",
       "      <td>PRIJEM</td>\n",
       "      <td>UNK</td>\n",
       "      <td>395.6</td>\n",
       "      <td>96741.4</td>\n",
       "      <td>UROK</td>\n",
       "      <td>151560</td>\n",
       "      <td>24</td>\n",
       "      <td>6315.0</td>\n",
       "    </tr>\n",
       "  </tbody>\n",
       "</table>\n",
       "<p>74364 rows × 8 columns</p>\n",
       "</div>"
      ],
      "text/plain": [
       "         type      operation  t_amount   balance k_symbol  l_amount  duration  \\\n",
       "0      PRIJEM  PREVOD Z UCTU   44749.0   45549.0      UNK     79608        24   \n",
       "1      PRIJEM          VKLAD    1000.0    1000.0      UNK     52788        12   \n",
       "2      PRIJEM          VKLAD    1100.0    1100.0      UNK     21924        36   \n",
       "3      PRIJEM          VKLAD     700.0     700.0      UNK     23052        12   \n",
       "4      PRIJEM          VKLAD     900.0     900.0      UNK     41904        12   \n",
       "...       ...            ...       ...       ...      ...       ...       ...   \n",
       "74359  PRIJEM            UNK     221.3   48019.4     UROK    131292        36   \n",
       "74360  PRIJEM            UNK     227.6  108432.0     UROK    168984        24   \n",
       "74361  PRIJEM            UNK     235.7   53703.3     UROK    182628        36   \n",
       "74362  PRIJEM            UNK     293.0   85131.6     UROK    274740        60   \n",
       "74363  PRIJEM            UNK     395.6   96741.4     UROK    151560        24   \n",
       "\n",
       "       payments  \n",
       "0        3317.0  \n",
       "1        4399.0  \n",
       "2         609.0  \n",
       "3        1921.0  \n",
       "4        3492.0  \n",
       "...         ...  \n",
       "74359    3647.0  \n",
       "74360    7041.0  \n",
       "74361    5073.0  \n",
       "74362    4579.0  \n",
       "74363    6315.0  \n",
       "\n",
       "[74364 rows x 8 columns]"
      ]
     },
<<<<<<< HEAD
     "execution_count": 16,
=======
     "execution_count": 33,
>>>>>>> 37b64fff4e096aa703661035effefcac8b09e01a
     "metadata": {},
     "output_type": "execute_result"
    }
   ],
   "source": [
    "X"
   ]
  },
  {
   "cell_type": "code",
<<<<<<< HEAD
   "execution_count": 17,
=======
   "execution_count": 34,
>>>>>>> 37b64fff4e096aa703661035effefcac8b09e01a
   "metadata": {},
   "outputs": [
    {
     "data": {
      "text/html": [
       "<div>\n",
       "<style scoped>\n",
       "    .dataframe tbody tr th:only-of-type {\n",
       "        vertical-align: middle;\n",
       "    }\n",
       "\n",
       "    .dataframe tbody tr th {\n",
       "        vertical-align: top;\n",
       "    }\n",
       "\n",
       "    .dataframe thead th {\n",
       "        text-align: right;\n",
       "    }\n",
       "</style>\n",
       "<table border=\"1\" class=\"dataframe\">\n",
       "  <thead>\n",
       "    <tr style=\"text-align: right;\">\n",
       "      <th></th>\n",
       "      <th>t_amount</th>\n",
       "      <th>balance</th>\n",
       "      <th>l_amount</th>\n",
       "      <th>duration</th>\n",
       "      <th>payments</th>\n",
       "      <th>type_PRIJEM</th>\n",
       "      <th>type_VYBER</th>\n",
       "      <th>type_VYDAJ</th>\n",
       "      <th>operation_PREVOD NA UCET</th>\n",
       "      <th>operation_PREVOD Z UCTU</th>\n",
       "      <th>...</th>\n",
       "      <th>operation_VKLAD</th>\n",
       "      <th>operation_VYBER</th>\n",
       "      <th>operation_VYBER KARTOU</th>\n",
       "      <th>k_symbol_POJISTNE</th>\n",
       "      <th>k_symbol_SANKC. UROK</th>\n",
       "      <th>k_symbol_SIPO</th>\n",
       "      <th>k_symbol_SLUZBY</th>\n",
       "      <th>k_symbol_UNK</th>\n",
       "      <th>k_symbol_UROK</th>\n",
       "      <th>k_symbol_UVER</th>\n",
       "    </tr>\n",
       "  </thead>\n",
       "  <tbody>\n",
       "    <tr>\n",
       "      <th>0</th>\n",
       "      <td>44749.0</td>\n",
       "      <td>45549.0</td>\n",
       "      <td>79608</td>\n",
       "      <td>24</td>\n",
       "      <td>3317.0</td>\n",
       "      <td>1</td>\n",
       "      <td>0</td>\n",
       "      <td>0</td>\n",
       "      <td>0</td>\n",
       "      <td>1</td>\n",
       "      <td>...</td>\n",
       "      <td>0</td>\n",
       "      <td>0</td>\n",
       "      <td>0</td>\n",
       "      <td>0</td>\n",
       "      <td>0</td>\n",
       "      <td>0</td>\n",
       "      <td>0</td>\n",
       "      <td>1</td>\n",
       "      <td>0</td>\n",
       "      <td>0</td>\n",
       "    </tr>\n",
       "    <tr>\n",
       "      <th>1</th>\n",
       "      <td>1000.0</td>\n",
       "      <td>1000.0</td>\n",
       "      <td>52788</td>\n",
       "      <td>12</td>\n",
       "      <td>4399.0</td>\n",
       "      <td>1</td>\n",
       "      <td>0</td>\n",
       "      <td>0</td>\n",
       "      <td>0</td>\n",
       "      <td>0</td>\n",
       "      <td>...</td>\n",
       "      <td>1</td>\n",
       "      <td>0</td>\n",
       "      <td>0</td>\n",
       "      <td>0</td>\n",
       "      <td>0</td>\n",
       "      <td>0</td>\n",
       "      <td>0</td>\n",
       "      <td>1</td>\n",
       "      <td>0</td>\n",
       "      <td>0</td>\n",
       "    </tr>\n",
       "    <tr>\n",
       "      <th>2</th>\n",
       "      <td>1100.0</td>\n",
       "      <td>1100.0</td>\n",
       "      <td>21924</td>\n",
       "      <td>36</td>\n",
       "      <td>609.0</td>\n",
       "      <td>1</td>\n",
       "      <td>0</td>\n",
       "      <td>0</td>\n",
       "      <td>0</td>\n",
       "      <td>0</td>\n",
       "      <td>...</td>\n",
       "      <td>1</td>\n",
       "      <td>0</td>\n",
       "      <td>0</td>\n",
       "      <td>0</td>\n",
       "      <td>0</td>\n",
       "      <td>0</td>\n",
       "      <td>0</td>\n",
       "      <td>1</td>\n",
       "      <td>0</td>\n",
       "      <td>0</td>\n",
       "    </tr>\n",
       "    <tr>\n",
       "      <th>3</th>\n",
       "      <td>700.0</td>\n",
       "      <td>700.0</td>\n",
       "      <td>23052</td>\n",
       "      <td>12</td>\n",
       "      <td>1921.0</td>\n",
       "      <td>1</td>\n",
       "      <td>0</td>\n",
       "      <td>0</td>\n",
       "      <td>0</td>\n",
       "      <td>0</td>\n",
       "      <td>...</td>\n",
       "      <td>1</td>\n",
       "      <td>0</td>\n",
       "      <td>0</td>\n",
       "      <td>0</td>\n",
       "      <td>0</td>\n",
       "      <td>0</td>\n",
       "      <td>0</td>\n",
       "      <td>1</td>\n",
       "      <td>0</td>\n",
       "      <td>0</td>\n",
       "    </tr>\n",
       "    <tr>\n",
       "      <th>4</th>\n",
       "      <td>900.0</td>\n",
       "      <td>900.0</td>\n",
       "      <td>41904</td>\n",
       "      <td>12</td>\n",
       "      <td>3492.0</td>\n",
       "      <td>1</td>\n",
       "      <td>0</td>\n",
       "      <td>0</td>\n",
       "      <td>0</td>\n",
       "      <td>0</td>\n",
       "      <td>...</td>\n",
       "      <td>1</td>\n",
       "      <td>0</td>\n",
       "      <td>0</td>\n",
       "      <td>0</td>\n",
       "      <td>0</td>\n",
       "      <td>0</td>\n",
       "      <td>0</td>\n",
       "      <td>1</td>\n",
       "      <td>0</td>\n",
       "      <td>0</td>\n",
       "    </tr>\n",
       "    <tr>\n",
       "      <th>...</th>\n",
       "      <td>...</td>\n",
       "      <td>...</td>\n",
       "      <td>...</td>\n",
       "      <td>...</td>\n",
       "      <td>...</td>\n",
       "      <td>...</td>\n",
       "      <td>...</td>\n",
       "      <td>...</td>\n",
       "      <td>...</td>\n",
       "      <td>...</td>\n",
       "      <td>...</td>\n",
       "      <td>...</td>\n",
       "      <td>...</td>\n",
       "      <td>...</td>\n",
       "      <td>...</td>\n",
       "      <td>...</td>\n",
       "      <td>...</td>\n",
       "      <td>...</td>\n",
       "      <td>...</td>\n",
       "      <td>...</td>\n",
       "      <td>...</td>\n",
       "    </tr>\n",
       "    <tr>\n",
       "      <th>74359</th>\n",
       "      <td>221.3</td>\n",
       "      <td>48019.4</td>\n",
       "      <td>131292</td>\n",
       "      <td>36</td>\n",
       "      <td>3647.0</td>\n",
       "      <td>1</td>\n",
       "      <td>0</td>\n",
       "      <td>0</td>\n",
       "      <td>0</td>\n",
       "      <td>0</td>\n",
       "      <td>...</td>\n",
       "      <td>0</td>\n",
       "      <td>0</td>\n",
       "      <td>0</td>\n",
       "      <td>0</td>\n",
       "      <td>0</td>\n",
       "      <td>0</td>\n",
       "      <td>0</td>\n",
       "      <td>0</td>\n",
       "      <td>1</td>\n",
       "      <td>0</td>\n",
       "    </tr>\n",
       "    <tr>\n",
       "      <th>74360</th>\n",
       "      <td>227.6</td>\n",
       "      <td>108432.0</td>\n",
       "      <td>168984</td>\n",
       "      <td>24</td>\n",
       "      <td>7041.0</td>\n",
       "      <td>1</td>\n",
       "      <td>0</td>\n",
       "      <td>0</td>\n",
       "      <td>0</td>\n",
       "      <td>0</td>\n",
       "      <td>...</td>\n",
       "      <td>0</td>\n",
       "      <td>0</td>\n",
       "      <td>0</td>\n",
       "      <td>0</td>\n",
       "      <td>0</td>\n",
       "      <td>0</td>\n",
       "      <td>0</td>\n",
       "      <td>0</td>\n",
       "      <td>1</td>\n",
       "      <td>0</td>\n",
       "    </tr>\n",
       "    <tr>\n",
       "      <th>74361</th>\n",
       "      <td>235.7</td>\n",
       "      <td>53703.3</td>\n",
       "      <td>182628</td>\n",
       "      <td>36</td>\n",
       "      <td>5073.0</td>\n",
       "      <td>1</td>\n",
       "      <td>0</td>\n",
       "      <td>0</td>\n",
       "      <td>0</td>\n",
       "      <td>0</td>\n",
       "      <td>...</td>\n",
       "      <td>0</td>\n",
       "      <td>0</td>\n",
       "      <td>0</td>\n",
       "      <td>0</td>\n",
       "      <td>0</td>\n",
       "      <td>0</td>\n",
       "      <td>0</td>\n",
       "      <td>0</td>\n",
       "      <td>1</td>\n",
       "      <td>0</td>\n",
       "    </tr>\n",
       "    <tr>\n",
       "      <th>74362</th>\n",
       "      <td>293.0</td>\n",
       "      <td>85131.6</td>\n",
       "      <td>274740</td>\n",
       "      <td>60</td>\n",
       "      <td>4579.0</td>\n",
       "      <td>1</td>\n",
       "      <td>0</td>\n",
       "      <td>0</td>\n",
       "      <td>0</td>\n",
       "      <td>0</td>\n",
       "      <td>...</td>\n",
       "      <td>0</td>\n",
       "      <td>0</td>\n",
       "      <td>0</td>\n",
       "      <td>0</td>\n",
       "      <td>0</td>\n",
       "      <td>0</td>\n",
       "      <td>0</td>\n",
       "      <td>0</td>\n",
       "      <td>1</td>\n",
       "      <td>0</td>\n",
       "    </tr>\n",
       "    <tr>\n",
       "      <th>74363</th>\n",
       "      <td>395.6</td>\n",
       "      <td>96741.4</td>\n",
       "      <td>151560</td>\n",
       "      <td>24</td>\n",
       "      <td>6315.0</td>\n",
       "      <td>1</td>\n",
       "      <td>0</td>\n",
       "      <td>0</td>\n",
       "      <td>0</td>\n",
       "      <td>0</td>\n",
       "      <td>...</td>\n",
       "      <td>0</td>\n",
       "      <td>0</td>\n",
       "      <td>0</td>\n",
       "      <td>0</td>\n",
       "      <td>0</td>\n",
       "      <td>0</td>\n",
       "      <td>0</td>\n",
       "      <td>0</td>\n",
       "      <td>1</td>\n",
       "      <td>0</td>\n",
       "    </tr>\n",
       "  </tbody>\n",
       "</table>\n",
       "<p>74364 rows × 21 columns</p>\n",
       "</div>"
      ],
      "text/plain": [
       "       t_amount   balance  l_amount  duration  payments  type_PRIJEM  \\\n",
       "0       44749.0   45549.0     79608        24    3317.0            1   \n",
       "1        1000.0    1000.0     52788        12    4399.0            1   \n",
       "2        1100.0    1100.0     21924        36     609.0            1   \n",
       "3         700.0     700.0     23052        12    1921.0            1   \n",
       "4         900.0     900.0     41904        12    3492.0            1   \n",
       "...         ...       ...       ...       ...       ...          ...   \n",
       "74359     221.3   48019.4    131292        36    3647.0            1   \n",
       "74360     227.6  108432.0    168984        24    7041.0            1   \n",
       "74361     235.7   53703.3    182628        36    5073.0            1   \n",
       "74362     293.0   85131.6    274740        60    4579.0            1   \n",
       "74363     395.6   96741.4    151560        24    6315.0            1   \n",
       "\n",
       "       type_VYBER  type_VYDAJ  operation_PREVOD NA UCET  \\\n",
       "0               0           0                         0   \n",
       "1               0           0                         0   \n",
       "2               0           0                         0   \n",
       "3               0           0                         0   \n",
       "4               0           0                         0   \n",
       "...           ...         ...                       ...   \n",
       "74359           0           0                         0   \n",
       "74360           0           0                         0   \n",
       "74361           0           0                         0   \n",
       "74362           0           0                         0   \n",
       "74363           0           0                         0   \n",
       "\n",
       "       operation_PREVOD Z UCTU  ...  operation_VKLAD  operation_VYBER  \\\n",
       "0                            1  ...                0                0   \n",
       "1                            0  ...                1                0   \n",
       "2                            0  ...                1                0   \n",
       "3                            0  ...                1                0   \n",
       "4                            0  ...                1                0   \n",
       "...                        ...  ...              ...              ...   \n",
       "74359                        0  ...                0                0   \n",
       "74360                        0  ...                0                0   \n",
       "74361                        0  ...                0                0   \n",
       "74362                        0  ...                0                0   \n",
       "74363                        0  ...                0                0   \n",
       "\n",
       "       operation_VYBER KARTOU  k_symbol_POJISTNE  k_symbol_SANKC. UROK  \\\n",
       "0                           0                  0                     0   \n",
       "1                           0                  0                     0   \n",
       "2                           0                  0                     0   \n",
       "3                           0                  0                     0   \n",
       "4                           0                  0                     0   \n",
       "...                       ...                ...                   ...   \n",
       "74359                       0                  0                     0   \n",
       "74360                       0                  0                     0   \n",
       "74361                       0                  0                     0   \n",
       "74362                       0                  0                     0   \n",
       "74363                       0                  0                     0   \n",
       "\n",
       "       k_symbol_SIPO  k_symbol_SLUZBY  k_symbol_UNK  k_symbol_UROK  \\\n",
       "0                  0                0             1              0   \n",
       "1                  0                0             1              0   \n",
       "2                  0                0             1              0   \n",
       "3                  0                0             1              0   \n",
       "4                  0                0             1              0   \n",
       "...              ...              ...           ...            ...   \n",
       "74359              0                0             0              1   \n",
       "74360              0                0             0              1   \n",
       "74361              0                0             0              1   \n",
       "74362              0                0             0              1   \n",
       "74363              0                0             0              1   \n",
       "\n",
       "       k_symbol_UVER  \n",
       "0                  0  \n",
       "1                  0  \n",
       "2                  0  \n",
       "3                  0  \n",
       "4                  0  \n",
       "...              ...  \n",
       "74359              0  \n",
       "74360              0  \n",
       "74361              0  \n",
       "74362              0  \n",
       "74363              0  \n",
       "\n",
       "[74364 rows x 21 columns]"
      ]
     },
<<<<<<< HEAD
     "execution_count": 17,
=======
     "execution_count": 34,
>>>>>>> 37b64fff4e096aa703661035effefcac8b09e01a
     "metadata": {},
     "output_type": "execute_result"
    }
   ],
   "source": [
    "X = pd.get_dummies(X, columns=['type', 'operation', 'k_symbol'])\n",
    "X"
   ]
  },
  {
   "cell_type": "code",
<<<<<<< HEAD
   "execution_count": 34,
   "metadata": {},
   "outputs": [
    {
     "data": {
      "text/plain": [
       "A    64599\n",
       "B     9765\n",
       "Name: status, dtype: int64"
      ]
     },
     "execution_count": 34,
     "metadata": {},
     "output_type": "execute_result"
    }
   ],
   "source": [
    "y.value_counts()"
   ]
  },
  {
   "cell_type": "code",
   "execution_count": 36,
=======
   "execution_count": 58,
>>>>>>> 37b64fff4e096aa703661035effefcac8b09e01a
   "metadata": {},
   "outputs": [
    {
     "data": {
      "text/plain": [
       "A    0.868686\n",
       "B    0.131314\n",
       "Name: status, dtype: float64"
      ]
     },
<<<<<<< HEAD
     "execution_count": 36,
=======
     "execution_count": 58,
>>>>>>> 37b64fff4e096aa703661035effefcac8b09e01a
     "metadata": {},
     "output_type": "execute_result"
    }
   ],
   "source": [
    "y.value_counts(normalize=True)"
   ]
  },
  {
   "cell_type": "code",
<<<<<<< HEAD
   "execution_count": 23,
=======
   "execution_count": 49,
>>>>>>> 37b64fff4e096aa703661035effefcac8b09e01a
   "metadata": {},
   "outputs": [],
   "source": [
    "X_train, X_test, y_train, y_test = train_test_split(X, y, test_size=0.2, random_state=42)"
   ]
  },
  {
   "cell_type": "code",
<<<<<<< HEAD
   "execution_count": 26,
=======
   "execution_count": 51,
>>>>>>> 37b64fff4e096aa703661035effefcac8b09e01a
   "metadata": {},
   "outputs": [
    {
     "data": {
      "text/plain": [
       "(14873, 59491, 59491, 14873)"
      ]
     },
<<<<<<< HEAD
     "execution_count": 26,
=======
     "execution_count": 51,
>>>>>>> 37b64fff4e096aa703661035effefcac8b09e01a
     "metadata": {},
     "output_type": "execute_result"
    }
   ],
   "source": [
    "len(X_test), len(X_train), len(y_train), len(y_test)"
   ]
  },
  {
   "cell_type": "code",
<<<<<<< HEAD
   "execution_count": 27,
=======
   "execution_count": 52,
>>>>>>> 37b64fff4e096aa703661035effefcac8b09e01a
   "metadata": {},
   "outputs": [
    {
     "data": {
      "text/plain": [
       "LogisticRegression(max_iter=1000, random_state=42)"
      ]
     },
<<<<<<< HEAD
     "execution_count": 27,
=======
     "execution_count": 52,
>>>>>>> 37b64fff4e096aa703661035effefcac8b09e01a
     "metadata": {},
     "output_type": "execute_result"
    }
   ],
   "source": [
    "classification = LogisticRegression(random_state=42, max_iter=1000)\n",
    "\n",
    "classification.fit(X_train, y_train)"
   ]
  },
  {
   "cell_type": "code",
<<<<<<< HEAD
   "execution_count": 28,
=======
   "execution_count": 53,
>>>>>>> 37b64fff4e096aa703661035effefcac8b09e01a
   "metadata": {},
   "outputs": [
    {
     "data": {
      "text/plain": [
       "0.8729913265649163"
      ]
     },
<<<<<<< HEAD
     "execution_count": 28,
=======
     "execution_count": 53,
>>>>>>> 37b64fff4e096aa703661035effefcac8b09e01a
     "metadata": {},
     "output_type": "execute_result"
    }
   ],
   "source": [
    "classification.score(X_test, y_test) # checking the score without the need for predictions\n",
    "# 0.8729913265649163"
   ]
  },
  {
   "cell_type": "code",
<<<<<<< HEAD
   "execution_count": 29,
=======
   "execution_count": 44,
   "metadata": {},
   "outputs": [
    {
     "data": {
      "text/plain": [
       "75"
      ]
     },
     "execution_count": 44,
     "metadata": {},
     "output_type": "execute_result"
    }
   ],
   "source": [
    "# X_test -> 100\n",
    "# correct_pred -> 80"
   ]
  },
  {
   "cell_type": "code",
   "execution_count": 17,
>>>>>>> 37b64fff4e096aa703661035effefcac8b09e01a
   "metadata": {},
   "outputs": [
    {
     "data": {
      "text/plain": [
       "array(['A', 'A', 'A', ..., 'A', 'A', 'A'], dtype=object)"
      ]
     },
<<<<<<< HEAD
     "execution_count": 29,
=======
     "execution_count": 17,
>>>>>>> 37b64fff4e096aa703661035effefcac8b09e01a
     "metadata": {},
     "output_type": "execute_result"
    }
   ],
   "source": [
    "# to get predictions\n",
    "predictions = classification.predict(X_test)\n",
    "predictions"
   ]
  },
  {
   "cell_type": "code",
<<<<<<< HEAD
   "execution_count": 30,
=======
   "execution_count": 18,
>>>>>>> 37b64fff4e096aa703661035effefcac8b09e01a
   "metadata": {},
   "outputs": [
    {
     "data": {
      "text/plain": [
       "27359    A\n",
       "14664    A\n",
       "4361     A\n",
       "41905    A\n",
       "19821    B\n",
       "        ..\n",
       "6111     B\n",
       "46494    A\n",
       "52842    A\n",
       "23300    A\n",
       "21617    A\n",
       "Name: status, Length: 14873, dtype: object"
      ]
     },
<<<<<<< HEAD
     "execution_count": 30,
=======
     "execution_count": 18,
>>>>>>> 37b64fff4e096aa703661035effefcac8b09e01a
     "metadata": {},
     "output_type": "execute_result"
    }
   ],
   "source": [
    "y_test"
   ]
  },
  {
   "cell_type": "code",
   "execution_count": 54,
   "metadata": {},
   "outputs": [
    {
     "data": {
      "text/plain": [
       "array([[0.95279426, 0.04720574],\n",
       "       [0.94907554, 0.05092446],\n",
       "       [0.91842873, 0.08157127],\n",
       "       ...,\n",
       "       [0.78223812, 0.21776188],\n",
       "       [0.88288291, 0.11711709],\n",
       "       [0.5390144 , 0.4609856 ]])"
      ]
     },
     "execution_count": 54,
     "metadata": {},
     "output_type": "execute_result"
    }
   ],
   "source": [
    "# to get the probability instead\n",
    "predictions_ = classification.predict_proba(X_test)\n",
    "predictions_"
   ]
  },
  {
   "cell_type": "code",
<<<<<<< HEAD
   "execution_count": 31,
=======
   "execution_count": 20,
>>>>>>> 37b64fff4e096aa703661035effefcac8b09e01a
   "metadata": {},
   "outputs": [
    {
     "data": {
      "text/plain": [
       "array([[12680,   155],\n",
<<<<<<< HEAD
       "       [ 1734,   304]], dtype=int64)"
      ]
     },
     "execution_count": 31,
=======
       "       [ 1734,   304]])"
      ]
     },
     "execution_count": 20,
>>>>>>> 37b64fff4e096aa703661035effefcac8b09e01a
     "metadata": {},
     "output_type": "execute_result"
    }
   ],
   "source": [
    "confusion_matrix(y_test, predictions) # normalize : {'true', 'pred', 'all'}"
   ]
  },
  {
   "cell_type": "markdown",
   "metadata": {},
   "source": [
    "From DOC:\n",
    "\n",
    "    Confusion matrix whose i-th row and j-th\n",
    "    column entry indicates the number of\n",
    "    samples with true label being i-th class\n",
    "    and predicted label being j-th class.\n",
    "\n",
    "![](https://miro.medium.com/max/664/1*M295_PhlqBaq_SFj7edQ5w.png)"
   ]
  },
  {
   "cell_type": "code",
<<<<<<< HEAD
   "execution_count": 32,
=======
   "execution_count": 55,
   "metadata": {},
   "outputs": [
    {
     "data": {
      "text/plain": [
       "array([[0.8525516 , 0.01042157],\n",
       "       [0.1165871 , 0.02043972]])"
      ]
     },
     "execution_count": 55,
     "metadata": {},
     "output_type": "execute_result"
    }
   ],
   "source": [
    "cf_matrix = confusion_matrix(y_test, predictions, normalize='all')\n",
    "cf_matrix"
   ]
  },
  {
   "cell_type": "code",
   "execution_count": 23,
>>>>>>> 37b64fff4e096aa703661035effefcac8b09e01a
   "metadata": {},
   "outputs": [
    {
     "data": {
      "text/plain": [
       "<AxesSubplot:>"
      ]
     },
<<<<<<< HEAD
     "execution_count": 32,
=======
     "execution_count": 23,
>>>>>>> 37b64fff4e096aa703661035effefcac8b09e01a
     "metadata": {},
     "output_type": "execute_result"
    },
    {
     "data": {
<<<<<<< HEAD
      "image/png": "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\n",
=======
      "image/png": "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\n",
>>>>>>> 37b64fff4e096aa703661035effefcac8b09e01a
      "text/plain": [
       "<Figure size 432x288 with 2 Axes>"
      ]
     },
     "metadata": {
      "needs_background": "light"
     },
     "output_type": "display_data"
    }
   ],
   "source": [
    "sns.heatmap(cf_matrix, annot=True, fmt='.2%', cmap='Blues')"
   ]
  },
  {
   "cell_type": "code",
   "execution_count": 33,
   "metadata": {},
   "outputs": [
    {
     "data": {
      "text/plain": [
       "<AxesSubplot:>"
      ]
     },
     "execution_count": 33,
     "metadata": {},
     "output_type": "execute_result"
    },
    {
     "data": {
      "image/png": "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\n",
      "text/plain": [
       "<Figure size 432x288 with 2 Axes>"
      ]
     },
     "metadata": {
      "needs_background": "light"
     },
     "output_type": "display_data"
    }
   ],
   "source": [
    "group_names = ['True A', 'False A', 'False B', 'True B']\n",
    "group_counts = [\"{0:0.0f}\".format(value) for value in cf_matrix.flatten()]\n",
    "group_percentages = [\"{0:.2%}\".format(value) for value in cf_matrix.flatten()/np.sum(cf_matrix)]\n",
    "labels = [f\"{v1}\\n{v2}\\n{v3}\" for v1, v2, v3 in zip(group_names,group_counts,group_percentages)]\n",
    "labels = np.asarray(labels).reshape(2,2)\n",
    "sns.heatmap(cf_matrix, annot=labels, fmt='', cmap='Blues')"
   ]
  },
  {
   "cell_type": "code",
   "execution_count": null,
   "metadata": {},
   "outputs": [],
   "source": []
  }
 ],
 "metadata": {
  "kernelspec": {
   "display_name": "Python 3",
   "language": "python",
   "name": "python3"
  },
  "language_info": {
   "codemirror_mode": {
    "name": "ipython",
    "version": 3
   },
   "file_extension": ".py",
   "mimetype": "text/x-python",
   "name": "python",
   "nbconvert_exporter": "python",
   "pygments_lexer": "ipython3",
   "version": "3.8.8"
  }
 },
 "nbformat": 4,
 "nbformat_minor": 4
}
