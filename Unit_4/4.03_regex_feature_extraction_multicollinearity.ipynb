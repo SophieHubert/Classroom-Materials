{
 "cells": [
  {
   "cell_type": "code",
   "execution_count": 27,
   "id": "24554d90-ccd8-417d-b684-38de7021b34e",
   "metadata": {},
   "outputs": [],
   "source": [
    "import numpy as np\n",
    "import pandas as pd\n",
    "import re"
   ]
  },
  {
   "cell_type": "code",
   "execution_count": 4,
   "id": "387b433c-a939-48d9-b0ae-9d727cccb9c2",
   "metadata": {},
   "outputs": [
    {
     "data": {
      "text/plain": [
       "['er', 'er']"
      ]
     },
     "execution_count": 4,
     "metadata": {},
     "output_type": "execute_result"
    }
   ],
   "source": [
    "text = \"That person wears marvelous trousers.\"\n",
    "pattern = 'er'\n",
    "# pattern = '[er]'\n",
    "re.findall(pattern, text)"
   ]
  },
  {
   "cell_type": "code",
   "execution_count": 5,
   "id": "1fd2c785-3578-4793-93b6-f356aefa5b1f",
   "metadata": {},
   "outputs": [
    {
     "data": {
      "text/plain": [
       "['gray', 'grey']"
      ]
     },
     "execution_count": 5,
     "metadata": {},
     "output_type": "execute_result"
    }
   ],
   "source": [
    "text = \"Is it spelled gray or grey?\"\n",
    "# text = \"Is it spelled gry or grey?\"\n",
    "pattern = 'gr[ae]y'\n",
    "re.findall(pattern, text)"
   ]
  },
  {
   "cell_type": "code",
   "execution_count": 35,
   "id": "1531efe8-f25e-4883-9509-2e9035101eff",
   "metadata": {},
   "outputs": [
    {
     "name": "stdout",
     "output_type": "stream",
     "text": [
      "['TKerraPower', 'A', 'nuclear', 'energy', 'company', 'founded', 'by', 'Bill', 'Gates', 'is', 'unlikely', 'to', 'follow', 'through', 'on', 'building', 'a', 'demonstration', 'reactor', 'in', 'China', 'due', 'largely', 'to', 'the', 'Trump', 'administration', 's', 'crackdown', 'on', 'the', 'country']\n"
     ]
    }
   ],
   "source": [
    "text = '''TKerraPower, A nuclear-energy company founded by Bill Gates,\n",
    "        is unlikely to follow through on building a demonstration reactor in China,\n",
    "        due largely to the Trump administration�s crackdown on the country'''\n",
    "\n",
    "# pattern = '[A-Z][a-z]*'\n",
    "pattern = '[A-z]+'\n",
    "# pattern = '[A-Z][a-z]+'\n",
    "print(re.findall(pattern, text))"
   ]
  },
  {
   "cell_type": "markdown",
   "id": "9d657258-c2e6-45f2-996c-0fe32f0775d5",
   "metadata": {},
   "source": [
    "### More complex regex"
   ]
  },
  {
   "cell_type": "markdown",
   "id": "2bf7af90-40a8-4a6c-9c71-24485a7dc301",
   "metadata": {},
   "source": [
    "- `\\w`: Any alphanumeric character.\n",
    "- `\\W`: Any non-alphanumeric character.\n",
    "- `\\d`: Any numeric character.\n",
    "- `\\D`: Any non-numeric character.\n",
    "- `\\s`: Any whitespace characters.\n",
    "- `\\S`: Any non-whitespace characters."
   ]
  },
  {
   "cell_type": "code",
   "execution_count": 15,
   "id": "fbdd17a4-229d-4f7d-9e30-0ee54e8008a9",
   "metadata": {},
   "outputs": [
    {
     "name": "stdout",
     "output_type": "stream",
     "text": [
      "['I', 'f', ' ', 'y', 'o', 'u', ' ', 't', 'e', 'l', 'l', ' ', 't', 'h', 'e', ' ', 't', 'r', 'u', 't', 'h', ',', ' ', 'y', 'o', 'u', ' ', 'd', 'o', 'n', \"'\", 't', ' ', 'h', 'a', 'v', 'e', ' ', 't', 'o', ' ', 'r', 'e', 'm', 'e', 'm', 'b', 'e', 'r', ' ', 'a', 'n', 'y', 't', 'h', 'i', 'n', 'g', ' ', '1', '0', '0', '.']\n"
     ]
    }
   ],
   "source": [
    "text = \"If you tell the truth, you don't have to remember anything 100.\"\n",
    "\n",
    "# pattern = '\\w'\n",
    "# pattern = '\\w+'\n",
    "# pattern = '\\w*'\n",
    "# pattern = '\\w?'\n",
    "pattern = '.'\n",
    "print(re.findall(pattern, text))"
   ]
  },
  {
   "cell_type": "code",
   "execution_count": 17,
   "id": "f09f27ec-c308-4d1f-93af-ee273eb55f47",
   "metadata": {},
   "outputs": [
    {
     "name": "stdout",
     "output_type": "stream",
     "text": [
      "['tell', 'trut', 'have', 'reme', 'mber', 'anyt', 'hing']\n"
     ]
    }
   ],
   "source": [
    "text = \"If you tell the truth, you don't have to remember anything 100.\"\n",
    "pattern = '\\w{4}'\n",
    "# pattern = '\\w{4,}'\n",
    "print(re.findall(pattern, text))"
   ]
  },
  {
   "cell_type": "code",
   "execution_count": 18,
   "id": "b4b53a1f-3419-4871-83eb-e7865d0a7730",
   "metadata": {},
   "outputs": [
    {
     "data": {
      "text/plain": [
       "['888-247-2262',\n",
       " '888-247-2262',\n",
       " '800-567-6567',\n",
       " '800-361-2965',\n",
       " '800-661-0407',\n",
       " '888-545-6794']"
      ]
     },
     "execution_count": 18,
     "metadata": {},
     "output_type": "execute_result"
    }
   ],
   "source": [
    "text = \"\"\"\n",
    "Aeromexico 800 -237- 6639\n",
    "Air Canada 888-247-2262\n",
    "Air Canada Rouge 888-247-2262\n",
    "Air Creebec 800-567-6567\n",
    "Air Inuit 800-361-2965\n",
    "Air North 800-661-0407\n",
    "Air Tindi 888-545-6794\"\"\"\n",
    "pattern = '\\d+-\\d+-\\d+'\n",
    "re.findall(pattern, text)"
   ]
  },
  {
   "cell_type": "markdown",
   "id": "7c5bd9fa-ab99-49f9-b547-8fd2b722efb6",
   "metadata": {},
   "source": [
    "### Feature Engineering"
   ]
  },
  {
   "cell_type": "markdown",
   "id": "6f01b921-6425-47d8-9bb3-d59f89d280e8",
   "metadata": {},
   "source": [
    "- **Feature engineering** is a process of transforming the given data into a form that is easier to interpret. All the techniques that we have used before including data transformations techniques, encoding categorical variables, scaling numerical features, imputing missing values, cleaning categorical columns, using regular expressions, using DateTime, and string functions are feature engineering techniques. The key idea is that we are manipulating the information that is available to us to be able to better understand it and improve the model.\n",
    "\n",
    "- **Feature extraction/feature generation**: It is the process of extracting relevant information from the existing available information. For example, you are provided with the date of birth of customers in the data. You are not interested in when they were born but more interested in their age. In that case, you can use the DateTime functions to calculate the age or extract other relevant information such as the year they were born, the month they were born.\n",
    "\n",
    "\n",
    "- **Feature selection**: This is the process of selecting the features/columns in your data that are relevant to the model, for eg. if it is a prediction problem, you will be more interested in only those variable that have an impact on your target and not other columns/features that are not providing any information about target. Adding variables that don't add value to the model degrades the performance of the model both in terms of accuracy and in terms of efficiency.\n",
    "\n",
    "Some of the feature selection methods that we took a look at earlier include:\n",
    "\n",
    "- Checking null values to drop a column\n",
    "- Sense check to drop columns that are not significant\n",
    "- Using heat maps to check multicollinearity for numerical variables\n",
    "- Chi-square tests for categorical variables"
   ]
  },
  {
   "cell_type": "code",
   "execution_count": 21,
   "id": "c61f5728-283a-432d-805f-1493acb2f9b9",
   "metadata": {},
   "outputs": [],
   "source": [
    "data = pd.read_csv('4.01_healthcare.csv')"
   ]
  },
  {
   "cell_type": "code",
   "execution_count": 24,
   "id": "eba73204-9235-4d5d-a5b7-0b7f1329beb7",
   "metadata": {},
   "outputs": [
    {
     "data": {
      "text/plain": [
       "(90569, 28)"
      ]
     },
     "execution_count": 24,
     "metadata": {},
     "output_type": "execute_result"
    }
   ],
   "source": [
    "data.shape"
   ]
  },
  {
   "cell_type": "code",
   "execution_count": 23,
   "id": "de433a45-6cc3-465e-a437-eb99f0b4db65",
   "metadata": {},
   "outputs": [
    {
     "data": {
      "text/plain": [
       "22507"
      ]
     },
     "execution_count": 23,
     "metadata": {},
     "output_type": "execute_result"
    }
   ],
   "source": [
    "len(data[data['DOB']==0])"
   ]
  },
  {
   "cell_type": "code",
   "execution_count": 25,
   "id": "126f7119-df1f-495a-b99d-8a6b2ebb2676",
   "metadata": {},
   "outputs": [],
   "source": [
    "def year(x):\n",
    "    x = str(x)\n",
    "    if len(x)<4:\n",
    "        return np.nan\n",
    "    else:\n",
    "        pattern = '\\d\\d'\n",
    "        yr = re.findall(pattern,x)[0]\n",
    "        return int(yr)\n"
   ]
  },
  {
   "cell_type": "markdown",
   "id": "7ed30dcf-a560-4316-8c46-1ab1844f5968",
   "metadata": {},
   "source": [
    "Note that our reference year is 1997 here as the data is from that study.\n"
   ]
  },
  {
   "cell_type": "code",
   "execution_count": 28,
   "id": "4d789796-7fca-4530-afa7-425459d07c6b",
   "metadata": {},
   "outputs": [],
   "source": [
    "data['year'] = list(map(year, data['DOB']))\n",
    "data['year'] = 97 - data['year']\n",
    "\n",
    "data['year'] = data['year'].fillna(np.mean(data['year']))\n",
    "\n",
    "# Now we can drop the column DOB as we have extracted the information we need from this column\n",
    "data = data.drop(['DOB'], axis=1)"
   ]
  },
  {
   "cell_type": "markdown",
   "id": "72cbe842-4a69-4e93-9de9-4d1aa25193b1",
   "metadata": {},
   "source": [
    "## Multicollinearity"
   ]
  },
  {
   "cell_type": "markdown",
   "id": "2d9f9d93-1b9c-4c9e-93ab-893f0682ea7e",
   "metadata": {},
   "source": [
    "Through multivariate linear regression, we are trying to assess the influence of each of the predictor variables on the target variable. This influence/relationship is linear and is represented by a mathematical equation. The equation is given as: `Y=β0+β1X1+β2X2+β3X3+β4X4+........+βnXn`.\n",
    "Here, each variable is trying to explain some information about the nature of `Y`, how does `Y` change with each of the predictor variables. The change in `Y` with `X` is technically variation. When the predictor variables are all independent of each other, each variable explains some information on the change in `Y`. Multicollinearity arises when the predictor variables are highly correlated. Hence some predictors are redundant as they do not reveal any new information on the change in `Y` with a change in `X`.\n",
    "\n",
    "The correlation matrix using the heat maps helps us understand the correlation between the independent variables.\n",
    "Using the `sklearn.metrics` module we calculate `R` square statistic. It measures the proportion of variance in the dependent variable that is explained by all of the independent variables.\n",
    "\n",
    "For checking multicollinearity, we calculate `R` square `k` and `VIF` (variance inflation factor) for each of the `k` independent variables. We do this by regressing the `k`-th independent variable on all of the other independent variables. That is, we treat `X` `k` as the dependent variable and use the other independent variables to predict `X` `k`.\n",
    "\n",
    "For eg. `Y=β0+β1X1+β2X2+β3X3+β4X4`\n",
    "\n",
    "Build a model `X1` vs. `X2 X3 X4`, find `R^2`, call it `R1`.\n",
    "Build a model `X2` vs. `X1 X3 X4`, find `R^2`, call it `R2`.\n",
    "and so on and so forth\n",
    "\n",
    "**Interpreting R square k** - If `R2k `equals zero, variable `k` is not correlated with any other independent variable.\n",
    "Usually, multicollinearity is a potential problem when `R2k` is greater than `0.75` and, a serious problem when `R2k` is greater than `0.9`.\n",
    "\n",
    "For each variable that we find individual R2, `VIF = 1 / ( 1 - R2k )` (for each dependent variable `k`). It is used to assess multicollinearity.\n",
    "\n",
    "**Interpretation of the variance inflation factor**: If `VIFk = 1`, variable k is not correlated with any other independent variable. Multicollinearity is a potential problem when `VIFk` is greater than 4 and, a serious problem when it is greater than 10.\n",
    "\n",
    "### Effects of Multicollinearity:\n",
    "\n",
    "1. It makes it harder to interpret the significance of variables in the regression model (we will talk about statistical significance/p-value later).\n",
    "2. It might give good enough results due to over-fitting, but those will not be very reliable (we will talk about over-fitting and under-fitting in more detail later. Over-fitting for now, you can explain to the students as a more complicated model and not very generalized ie it might work on the data at hand very well but not so well on the unknown/out of the box data.\n",
    "3. It is also important to note that it does not severely impact the model in terms of predicting power if the only prediction is the main goal of the analysis.\n",
    "\n",
    "Dealing with High Multicollinearity:\n",
    "\n",
    "1. Centering/standardizing/normalizing variables may help reduce multicollinearity.\n",
    "2. Removing one or more of the variables that are highly correlated with each other.\n"
   ]
  },
  {
   "cell_type": "markdown",
   "id": "f73de6d0-6933-4c4d-a4fd-7121bc45b47f",
   "metadata": {},
   "source": [
    "## VIF (Variance Inflation Factor)\n",
    "Additional resource [here](https://etav.github.io/python/vif_factor_python.html)"
   ]
  },
  {
   "cell_type": "code",
   "execution_count": 32,
   "id": "33a81b41-45a7-4547-a9c2-4374a44d75b2",
   "metadata": {},
   "outputs": [
    {
     "name": "stderr",
     "output_type": "stream",
     "text": [
      "/Users/abhimanyumittal/venv/lib/python3.8/site-packages/statsmodels/regression/linear_model.py:1715: RuntimeWarning: divide by zero encountered in double_scalars\n",
      "  return 1 - self.ssr/self.centered_tss\n",
      "/Users/abhimanyumittal/venv/lib/python3.8/site-packages/statsmodels/stats/outliers_influence.py:193: RuntimeWarning: divide by zero encountered in double_scalars\n",
      "  vif = 1. / (1. - r_squared_i)\n"
     ]
    }
   ],
   "source": [
    "from statsmodels.stats.outliers_influence import variance_inflation_factor\n",
    "from statsmodels.tools.tools import add_constant\n",
    "\n",
    "\n",
    "# This is the code to show how to use the __variance_inflation_factor__ function\n",
    "# We are using add_constant here as VIF method in python expects the addition of a constant terms in the X features. It uses OLS but does not add the constant itself.\n",
    "# data_corr = data.corr()\n",
    "\n",
    "vif = {}\n",
    "data_corr = add_constant(data_corr)\n",
    "for i in np.arange(data_corr.shape[1]):\n",
    "    column_name = data_corr.columns[i]\n",
    "    value = variance_inflation_factor(np.array(data_corr), i)\n",
    "    vif[column_name] = value\n",
    "\n",
    "# Code to use the variance_inflation_factor technique to remove highly correlated columns\n",
    "\n",
    "flag = True\n",
    "threshold = 50\n",
    "data_corr = add_constant(data_corr)\n",
    "while flag is True:\n",
    "    #print(data_corr.head())\n",
    "    flag = False\n",
    "    values = [variance_inflation_factor(np.array(data_corr), i) for i in np.arange(data_corr.shape[1])]\n",
    "    #print(values)\n",
    "    if max(values)> threshold:\n",
    "        col_index = values.index(max(values))\n",
    "        column_name = data_corr.columns[col_index]\n",
    "        data_corr = data_corr.drop([column_name], axis=1)\n",
    "        flag = True\n"
   ]
  },
  {
   "cell_type": "code",
   "execution_count": 33,
   "id": "b2da5e5b-f52d-412c-948f-8014c289fe70",
   "metadata": {},
   "outputs": [
    {
     "data": {
      "text/plain": [
       "{'const': 0.0,\n",
       " 'INCOME': inf,\n",
       " 'HV1': inf,\n",
       " 'HV2': inf,\n",
       " 'HV3': inf,\n",
       " 'HV4': inf,\n",
       " 'IC1': inf,\n",
       " 'IC2': inf,\n",
       " 'IC3': inf,\n",
       " 'IC4': inf,\n",
       " 'IC5': inf,\n",
       " 'NUMPROM': inf,\n",
       " 'CARDPROM': inf,\n",
       " 'CARDPM12': inf,\n",
       " 'NUMPRM12': inf,\n",
       " 'MAXADATE': inf,\n",
       " 'NGIFTALL': inf,\n",
       " 'TIMELAG': inf,\n",
       " 'AVGGIFT': inf,\n",
       " 'year': inf}"
      ]
     },
     "execution_count": 33,
     "metadata": {},
     "output_type": "execute_result"
    }
   ],
   "source": [
    "vif"
   ]
  },
  {
   "cell_type": "code",
   "execution_count": null,
   "id": "a78ff3be-26e3-45dc-947c-be618d801123",
   "metadata": {},
   "outputs": [],
   "source": []
  }
 ],
 "metadata": {
  "kernelspec": {
   "display_name": "Python 3",
   "language": "python",
   "name": "python3"
  },
  "language_info": {
   "codemirror_mode": {
    "name": "ipython",
    "version": 3
   },
   "file_extension": ".py",
   "mimetype": "text/x-python",
   "name": "python",
   "nbconvert_exporter": "python",
   "pygments_lexer": "ipython3",
   "version": "3.8.2"
  }
 },
 "nbformat": 4,
 "nbformat_minor": 5
}
